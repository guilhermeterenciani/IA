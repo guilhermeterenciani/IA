{
  "nbformat": 4,
  "nbformat_minor": 0,
  "metadata": {
    "colab": {
      "provenance": [],
      "machine_shape": "hm",
      "include_colab_link": true
    },
    "kernelspec": {
      "name": "python3",
      "display_name": "Python 3"
    }
  },
  "cells": [
    {
      "cell_type": "markdown",
      "metadata": {
        "id": "view-in-github",
        "colab_type": "text"
      },
      "source": [
        "<a href=\"https://colab.research.google.com/github/guilhermeterenciani/IA/blob/main/04_mlp.ipynb\" target=\"_parent\"><img src=\"https://colab.research.google.com/assets/colab-badge.svg\" alt=\"Open In Colab\"/></a>"
      ]
    },
    {
      "cell_type": "markdown",
      "metadata": {
        "id": "fZTHTkP1Ysbt"
      },
      "source": [
        "# Carregando o conjunto de dados"
      ]
    },
    {
      "cell_type": "code",
      "metadata": {
        "id": "6Ug1aAi4YVmo"
      },
      "source": [
        "\n",
        "import pickle, gzip, math, torch, matplotlib as mpl\n",
        "import matplotlib.pyplot as plt\n",
        "from torch import tensor\n",
        "import numpy as np\n",
        "import pandas as pd\n",
        "\n",
        "def near(a,b): return torch.allclose(a, b, rtol=1e-3, atol=1e-5)\n",
        "\n",
        "\n"
      ],
      "execution_count": null,
      "outputs": []
    },
    {
      "cell_type": "code",
      "source": [
        "!pwd"
      ],
      "metadata": {
        "colab": {
          "base_uri": "https://localhost:8080/"
        },
        "id": "pDcL2jyjTvzE",
        "outputId": "fd4dce8d-34ea-40e6-82c8-9f33215ed154"
      },
      "execution_count": null,
      "outputs": [
        {
          "output_type": "stream",
          "name": "stdout",
          "text": [
            "/content\n"
          ]
        }
      ]
    },
    {
      "cell_type": "code",
      "source": [
        "pd_train = pd.read_csv('sample_data/mnist_train_small.csv')\n",
        "pd_valid = pd.read_csv('sample_data/mnist_test.csv')"
      ],
      "metadata": {
        "id": "QivYvkgGTqT9"
      },
      "execution_count": null,
      "outputs": []
    },
    {
      "cell_type": "code",
      "source": [
        "pd_train"
      ],
      "metadata": {
        "colab": {
          "base_uri": "https://localhost:8080/",
          "height": 443
        },
        "id": "DK006E0enSD9",
        "outputId": "52b99c31-e3f4-431a-ad3c-bc2d736898a9"
      },
      "execution_count": null,
      "outputs": [
        {
          "output_type": "execute_result",
          "data": {
            "text/plain": [
              "       6  0  0.1  0.2  0.3  0.4  0.5  0.6  0.7  0.8  ...  0.581  0.582  0.583  \\\n",
              "0      5  0    0    0    0    0    0    0    0    0  ...      0      0      0   \n",
              "1      7  0    0    0    0    0    0    0    0    0  ...      0      0      0   \n",
              "2      9  0    0    0    0    0    0    0    0    0  ...      0      0      0   \n",
              "3      5  0    0    0    0    0    0    0    0    0  ...      0      0      0   \n",
              "4      2  0    0    0    0    0    0    0    0    0  ...      0      0      0   \n",
              "...   .. ..  ...  ...  ...  ...  ...  ...  ...  ...  ...    ...    ...    ...   \n",
              "19994  0  0    0    0    0    0    0    0    0    0  ...      0      0      0   \n",
              "19995  1  0    0    0    0    0    0    0    0    0  ...      0      0      0   \n",
              "19996  2  0    0    0    0    0    0    0    0    0  ...      0      0      0   \n",
              "19997  9  0    0    0    0    0    0    0    0    0  ...      0      0      0   \n",
              "19998  5  0    0    0    0    0    0    0    0    0  ...      0      0      0   \n",
              "\n",
              "       0.584  0.585  0.586  0.587  0.588  0.589  0.590  \n",
              "0          0      0      0      0      0      0      0  \n",
              "1          0      0      0      0      0      0      0  \n",
              "2          0      0      0      0      0      0      0  \n",
              "3          0      0      0      0      0      0      0  \n",
              "4          0      0      0      0      0      0      0  \n",
              "...      ...    ...    ...    ...    ...    ...    ...  \n",
              "19994      0      0      0      0      0      0      0  \n",
              "19995      0      0      0      0      0      0      0  \n",
              "19996      0      0      0      0      0      0      0  \n",
              "19997      0      0      0      0      0      0      0  \n",
              "19998      0      0      0      0      0      0      0  \n",
              "\n",
              "[19999 rows x 785 columns]"
            ],
            "text/html": [
              "\n",
              "  <div id=\"df-cf8b4054-25d1-4735-a1bb-db40c5eead6b\" class=\"colab-df-container\">\n",
              "    <div>\n",
              "<style scoped>\n",
              "    .dataframe tbody tr th:only-of-type {\n",
              "        vertical-align: middle;\n",
              "    }\n",
              "\n",
              "    .dataframe tbody tr th {\n",
              "        vertical-align: top;\n",
              "    }\n",
              "\n",
              "    .dataframe thead th {\n",
              "        text-align: right;\n",
              "    }\n",
              "</style>\n",
              "<table border=\"1\" class=\"dataframe\">\n",
              "  <thead>\n",
              "    <tr style=\"text-align: right;\">\n",
              "      <th></th>\n",
              "      <th>6</th>\n",
              "      <th>0</th>\n",
              "      <th>0.1</th>\n",
              "      <th>0.2</th>\n",
              "      <th>0.3</th>\n",
              "      <th>0.4</th>\n",
              "      <th>0.5</th>\n",
              "      <th>0.6</th>\n",
              "      <th>0.7</th>\n",
              "      <th>0.8</th>\n",
              "      <th>...</th>\n",
              "      <th>0.581</th>\n",
              "      <th>0.582</th>\n",
              "      <th>0.583</th>\n",
              "      <th>0.584</th>\n",
              "      <th>0.585</th>\n",
              "      <th>0.586</th>\n",
              "      <th>0.587</th>\n",
              "      <th>0.588</th>\n",
              "      <th>0.589</th>\n",
              "      <th>0.590</th>\n",
              "    </tr>\n",
              "  </thead>\n",
              "  <tbody>\n",
              "    <tr>\n",
              "      <th>0</th>\n",
              "      <td>5</td>\n",
              "      <td>0</td>\n",
              "      <td>0</td>\n",
              "      <td>0</td>\n",
              "      <td>0</td>\n",
              "      <td>0</td>\n",
              "      <td>0</td>\n",
              "      <td>0</td>\n",
              "      <td>0</td>\n",
              "      <td>0</td>\n",
              "      <td>...</td>\n",
              "      <td>0</td>\n",
              "      <td>0</td>\n",
              "      <td>0</td>\n",
              "      <td>0</td>\n",
              "      <td>0</td>\n",
              "      <td>0</td>\n",
              "      <td>0</td>\n",
              "      <td>0</td>\n",
              "      <td>0</td>\n",
              "      <td>0</td>\n",
              "    </tr>\n",
              "    <tr>\n",
              "      <th>1</th>\n",
              "      <td>7</td>\n",
              "      <td>0</td>\n",
              "      <td>0</td>\n",
              "      <td>0</td>\n",
              "      <td>0</td>\n",
              "      <td>0</td>\n",
              "      <td>0</td>\n",
              "      <td>0</td>\n",
              "      <td>0</td>\n",
              "      <td>0</td>\n",
              "      <td>...</td>\n",
              "      <td>0</td>\n",
              "      <td>0</td>\n",
              "      <td>0</td>\n",
              "      <td>0</td>\n",
              "      <td>0</td>\n",
              "      <td>0</td>\n",
              "      <td>0</td>\n",
              "      <td>0</td>\n",
              "      <td>0</td>\n",
              "      <td>0</td>\n",
              "    </tr>\n",
              "    <tr>\n",
              "      <th>2</th>\n",
              "      <td>9</td>\n",
              "      <td>0</td>\n",
              "      <td>0</td>\n",
              "      <td>0</td>\n",
              "      <td>0</td>\n",
              "      <td>0</td>\n",
              "      <td>0</td>\n",
              "      <td>0</td>\n",
              "      <td>0</td>\n",
              "      <td>0</td>\n",
              "      <td>...</td>\n",
              "      <td>0</td>\n",
              "      <td>0</td>\n",
              "      <td>0</td>\n",
              "      <td>0</td>\n",
              "      <td>0</td>\n",
              "      <td>0</td>\n",
              "      <td>0</td>\n",
              "      <td>0</td>\n",
              "      <td>0</td>\n",
              "      <td>0</td>\n",
              "    </tr>\n",
              "    <tr>\n",
              "      <th>3</th>\n",
              "      <td>5</td>\n",
              "      <td>0</td>\n",
              "      <td>0</td>\n",
              "      <td>0</td>\n",
              "      <td>0</td>\n",
              "      <td>0</td>\n",
              "      <td>0</td>\n",
              "      <td>0</td>\n",
              "      <td>0</td>\n",
              "      <td>0</td>\n",
              "      <td>...</td>\n",
              "      <td>0</td>\n",
              "      <td>0</td>\n",
              "      <td>0</td>\n",
              "      <td>0</td>\n",
              "      <td>0</td>\n",
              "      <td>0</td>\n",
              "      <td>0</td>\n",
              "      <td>0</td>\n",
              "      <td>0</td>\n",
              "      <td>0</td>\n",
              "    </tr>\n",
              "    <tr>\n",
              "      <th>4</th>\n",
              "      <td>2</td>\n",
              "      <td>0</td>\n",
              "      <td>0</td>\n",
              "      <td>0</td>\n",
              "      <td>0</td>\n",
              "      <td>0</td>\n",
              "      <td>0</td>\n",
              "      <td>0</td>\n",
              "      <td>0</td>\n",
              "      <td>0</td>\n",
              "      <td>...</td>\n",
              "      <td>0</td>\n",
              "      <td>0</td>\n",
              "      <td>0</td>\n",
              "      <td>0</td>\n",
              "      <td>0</td>\n",
              "      <td>0</td>\n",
              "      <td>0</td>\n",
              "      <td>0</td>\n",
              "      <td>0</td>\n",
              "      <td>0</td>\n",
              "    </tr>\n",
              "    <tr>\n",
              "      <th>...</th>\n",
              "      <td>...</td>\n",
              "      <td>...</td>\n",
              "      <td>...</td>\n",
              "      <td>...</td>\n",
              "      <td>...</td>\n",
              "      <td>...</td>\n",
              "      <td>...</td>\n",
              "      <td>...</td>\n",
              "      <td>...</td>\n",
              "      <td>...</td>\n",
              "      <td>...</td>\n",
              "      <td>...</td>\n",
              "      <td>...</td>\n",
              "      <td>...</td>\n",
              "      <td>...</td>\n",
              "      <td>...</td>\n",
              "      <td>...</td>\n",
              "      <td>...</td>\n",
              "      <td>...</td>\n",
              "      <td>...</td>\n",
              "      <td>...</td>\n",
              "    </tr>\n",
              "    <tr>\n",
              "      <th>19994</th>\n",
              "      <td>0</td>\n",
              "      <td>0</td>\n",
              "      <td>0</td>\n",
              "      <td>0</td>\n",
              "      <td>0</td>\n",
              "      <td>0</td>\n",
              "      <td>0</td>\n",
              "      <td>0</td>\n",
              "      <td>0</td>\n",
              "      <td>0</td>\n",
              "      <td>...</td>\n",
              "      <td>0</td>\n",
              "      <td>0</td>\n",
              "      <td>0</td>\n",
              "      <td>0</td>\n",
              "      <td>0</td>\n",
              "      <td>0</td>\n",
              "      <td>0</td>\n",
              "      <td>0</td>\n",
              "      <td>0</td>\n",
              "      <td>0</td>\n",
              "    </tr>\n",
              "    <tr>\n",
              "      <th>19995</th>\n",
              "      <td>1</td>\n",
              "      <td>0</td>\n",
              "      <td>0</td>\n",
              "      <td>0</td>\n",
              "      <td>0</td>\n",
              "      <td>0</td>\n",
              "      <td>0</td>\n",
              "      <td>0</td>\n",
              "      <td>0</td>\n",
              "      <td>0</td>\n",
              "      <td>...</td>\n",
              "      <td>0</td>\n",
              "      <td>0</td>\n",
              "      <td>0</td>\n",
              "      <td>0</td>\n",
              "      <td>0</td>\n",
              "      <td>0</td>\n",
              "      <td>0</td>\n",
              "      <td>0</td>\n",
              "      <td>0</td>\n",
              "      <td>0</td>\n",
              "    </tr>\n",
              "    <tr>\n",
              "      <th>19996</th>\n",
              "      <td>2</td>\n",
              "      <td>0</td>\n",
              "      <td>0</td>\n",
              "      <td>0</td>\n",
              "      <td>0</td>\n",
              "      <td>0</td>\n",
              "      <td>0</td>\n",
              "      <td>0</td>\n",
              "      <td>0</td>\n",
              "      <td>0</td>\n",
              "      <td>...</td>\n",
              "      <td>0</td>\n",
              "      <td>0</td>\n",
              "      <td>0</td>\n",
              "      <td>0</td>\n",
              "      <td>0</td>\n",
              "      <td>0</td>\n",
              "      <td>0</td>\n",
              "      <td>0</td>\n",
              "      <td>0</td>\n",
              "      <td>0</td>\n",
              "    </tr>\n",
              "    <tr>\n",
              "      <th>19997</th>\n",
              "      <td>9</td>\n",
              "      <td>0</td>\n",
              "      <td>0</td>\n",
              "      <td>0</td>\n",
              "      <td>0</td>\n",
              "      <td>0</td>\n",
              "      <td>0</td>\n",
              "      <td>0</td>\n",
              "      <td>0</td>\n",
              "      <td>0</td>\n",
              "      <td>...</td>\n",
              "      <td>0</td>\n",
              "      <td>0</td>\n",
              "      <td>0</td>\n",
              "      <td>0</td>\n",
              "      <td>0</td>\n",
              "      <td>0</td>\n",
              "      <td>0</td>\n",
              "      <td>0</td>\n",
              "      <td>0</td>\n",
              "      <td>0</td>\n",
              "    </tr>\n",
              "    <tr>\n",
              "      <th>19998</th>\n",
              "      <td>5</td>\n",
              "      <td>0</td>\n",
              "      <td>0</td>\n",
              "      <td>0</td>\n",
              "      <td>0</td>\n",
              "      <td>0</td>\n",
              "      <td>0</td>\n",
              "      <td>0</td>\n",
              "      <td>0</td>\n",
              "      <td>0</td>\n",
              "      <td>...</td>\n",
              "      <td>0</td>\n",
              "      <td>0</td>\n",
              "      <td>0</td>\n",
              "      <td>0</td>\n",
              "      <td>0</td>\n",
              "      <td>0</td>\n",
              "      <td>0</td>\n",
              "      <td>0</td>\n",
              "      <td>0</td>\n",
              "      <td>0</td>\n",
              "    </tr>\n",
              "  </tbody>\n",
              "</table>\n",
              "<p>19999 rows × 785 columns</p>\n",
              "</div>\n",
              "    <div class=\"colab-df-buttons\">\n",
              "\n",
              "  <div class=\"colab-df-container\">\n",
              "    <button class=\"colab-df-convert\" onclick=\"convertToInteractive('df-cf8b4054-25d1-4735-a1bb-db40c5eead6b')\"\n",
              "            title=\"Convert this dataframe to an interactive table.\"\n",
              "            style=\"display:none;\">\n",
              "\n",
              "  <svg xmlns=\"http://www.w3.org/2000/svg\" height=\"24px\" viewBox=\"0 -960 960 960\">\n",
              "    <path d=\"M120-120v-720h720v720H120Zm60-500h600v-160H180v160Zm220 220h160v-160H400v160Zm0 220h160v-160H400v160ZM180-400h160v-160H180v160Zm440 0h160v-160H620v160ZM180-180h160v-160H180v160Zm440 0h160v-160H620v160Z\"/>\n",
              "  </svg>\n",
              "    </button>\n",
              "\n",
              "  <style>\n",
              "    .colab-df-container {\n",
              "      display:flex;\n",
              "      gap: 12px;\n",
              "    }\n",
              "\n",
              "    .colab-df-convert {\n",
              "      background-color: #E8F0FE;\n",
              "      border: none;\n",
              "      border-radius: 50%;\n",
              "      cursor: pointer;\n",
              "      display: none;\n",
              "      fill: #1967D2;\n",
              "      height: 32px;\n",
              "      padding: 0 0 0 0;\n",
              "      width: 32px;\n",
              "    }\n",
              "\n",
              "    .colab-df-convert:hover {\n",
              "      background-color: #E2EBFA;\n",
              "      box-shadow: 0px 1px 2px rgba(60, 64, 67, 0.3), 0px 1px 3px 1px rgba(60, 64, 67, 0.15);\n",
              "      fill: #174EA6;\n",
              "    }\n",
              "\n",
              "    .colab-df-buttons div {\n",
              "      margin-bottom: 4px;\n",
              "    }\n",
              "\n",
              "    [theme=dark] .colab-df-convert {\n",
              "      background-color: #3B4455;\n",
              "      fill: #D2E3FC;\n",
              "    }\n",
              "\n",
              "    [theme=dark] .colab-df-convert:hover {\n",
              "      background-color: #434B5C;\n",
              "      box-shadow: 0px 1px 3px 1px rgba(0, 0, 0, 0.15);\n",
              "      filter: drop-shadow(0px 1px 2px rgba(0, 0, 0, 0.3));\n",
              "      fill: #FFFFFF;\n",
              "    }\n",
              "  </style>\n",
              "\n",
              "    <script>\n",
              "      const buttonEl =\n",
              "        document.querySelector('#df-cf8b4054-25d1-4735-a1bb-db40c5eead6b button.colab-df-convert');\n",
              "      buttonEl.style.display =\n",
              "        google.colab.kernel.accessAllowed ? 'block' : 'none';\n",
              "\n",
              "      async function convertToInteractive(key) {\n",
              "        const element = document.querySelector('#df-cf8b4054-25d1-4735-a1bb-db40c5eead6b');\n",
              "        const dataTable =\n",
              "          await google.colab.kernel.invokeFunction('convertToInteractive',\n",
              "                                                    [key], {});\n",
              "        if (!dataTable) return;\n",
              "\n",
              "        const docLinkHtml = 'Like what you see? Visit the ' +\n",
              "          '<a target=\"_blank\" href=https://colab.research.google.com/notebooks/data_table.ipynb>data table notebook</a>'\n",
              "          + ' to learn more about interactive tables.';\n",
              "        element.innerHTML = '';\n",
              "        dataTable['output_type'] = 'display_data';\n",
              "        await google.colab.output.renderOutput(dataTable, element);\n",
              "        const docLink = document.createElement('div');\n",
              "        docLink.innerHTML = docLinkHtml;\n",
              "        element.appendChild(docLink);\n",
              "      }\n",
              "    </script>\n",
              "  </div>\n",
              "\n",
              "\n",
              "<div id=\"df-805f0bee-2584-482b-9472-3bf5f70a892f\">\n",
              "  <button class=\"colab-df-quickchart\" onclick=\"quickchart('df-805f0bee-2584-482b-9472-3bf5f70a892f')\"\n",
              "            title=\"Suggest charts.\"\n",
              "            style=\"display:none;\">\n",
              "\n",
              "<svg xmlns=\"http://www.w3.org/2000/svg\" height=\"24px\"viewBox=\"0 0 24 24\"\n",
              "     width=\"24px\">\n",
              "    <g>\n",
              "        <path d=\"M19 3H5c-1.1 0-2 .9-2 2v14c0 1.1.9 2 2 2h14c1.1 0 2-.9 2-2V5c0-1.1-.9-2-2-2zM9 17H7v-7h2v7zm4 0h-2V7h2v10zm4 0h-2v-4h2v4z\"/>\n",
              "    </g>\n",
              "</svg>\n",
              "  </button>\n",
              "\n",
              "<style>\n",
              "  .colab-df-quickchart {\n",
              "      --bg-color: #E8F0FE;\n",
              "      --fill-color: #1967D2;\n",
              "      --hover-bg-color: #E2EBFA;\n",
              "      --hover-fill-color: #174EA6;\n",
              "      --disabled-fill-color: #AAA;\n",
              "      --disabled-bg-color: #DDD;\n",
              "  }\n",
              "\n",
              "  [theme=dark] .colab-df-quickchart {\n",
              "      --bg-color: #3B4455;\n",
              "      --fill-color: #D2E3FC;\n",
              "      --hover-bg-color: #434B5C;\n",
              "      --hover-fill-color: #FFFFFF;\n",
              "      --disabled-bg-color: #3B4455;\n",
              "      --disabled-fill-color: #666;\n",
              "  }\n",
              "\n",
              "  .colab-df-quickchart {\n",
              "    background-color: var(--bg-color);\n",
              "    border: none;\n",
              "    border-radius: 50%;\n",
              "    cursor: pointer;\n",
              "    display: none;\n",
              "    fill: var(--fill-color);\n",
              "    height: 32px;\n",
              "    padding: 0;\n",
              "    width: 32px;\n",
              "  }\n",
              "\n",
              "  .colab-df-quickchart:hover {\n",
              "    background-color: var(--hover-bg-color);\n",
              "    box-shadow: 0 1px 2px rgba(60, 64, 67, 0.3), 0 1px 3px 1px rgba(60, 64, 67, 0.15);\n",
              "    fill: var(--button-hover-fill-color);\n",
              "  }\n",
              "\n",
              "  .colab-df-quickchart-complete:disabled,\n",
              "  .colab-df-quickchart-complete:disabled:hover {\n",
              "    background-color: var(--disabled-bg-color);\n",
              "    fill: var(--disabled-fill-color);\n",
              "    box-shadow: none;\n",
              "  }\n",
              "\n",
              "  .colab-df-spinner {\n",
              "    border: 2px solid var(--fill-color);\n",
              "    border-color: transparent;\n",
              "    border-bottom-color: var(--fill-color);\n",
              "    animation:\n",
              "      spin 1s steps(1) infinite;\n",
              "  }\n",
              "\n",
              "  @keyframes spin {\n",
              "    0% {\n",
              "      border-color: transparent;\n",
              "      border-bottom-color: var(--fill-color);\n",
              "      border-left-color: var(--fill-color);\n",
              "    }\n",
              "    20% {\n",
              "      border-color: transparent;\n",
              "      border-left-color: var(--fill-color);\n",
              "      border-top-color: var(--fill-color);\n",
              "    }\n",
              "    30% {\n",
              "      border-color: transparent;\n",
              "      border-left-color: var(--fill-color);\n",
              "      border-top-color: var(--fill-color);\n",
              "      border-right-color: var(--fill-color);\n",
              "    }\n",
              "    40% {\n",
              "      border-color: transparent;\n",
              "      border-right-color: var(--fill-color);\n",
              "      border-top-color: var(--fill-color);\n",
              "    }\n",
              "    60% {\n",
              "      border-color: transparent;\n",
              "      border-right-color: var(--fill-color);\n",
              "    }\n",
              "    80% {\n",
              "      border-color: transparent;\n",
              "      border-right-color: var(--fill-color);\n",
              "      border-bottom-color: var(--fill-color);\n",
              "    }\n",
              "    90% {\n",
              "      border-color: transparent;\n",
              "      border-bottom-color: var(--fill-color);\n",
              "    }\n",
              "  }\n",
              "</style>\n",
              "\n",
              "  <script>\n",
              "    async function quickchart(key) {\n",
              "      const quickchartButtonEl =\n",
              "        document.querySelector('#' + key + ' button');\n",
              "      quickchartButtonEl.disabled = true;  // To prevent multiple clicks.\n",
              "      quickchartButtonEl.classList.add('colab-df-spinner');\n",
              "      try {\n",
              "        const charts = await google.colab.kernel.invokeFunction(\n",
              "            'suggestCharts', [key], {});\n",
              "      } catch (error) {\n",
              "        console.error('Error during call to suggestCharts:', error);\n",
              "      }\n",
              "      quickchartButtonEl.classList.remove('colab-df-spinner');\n",
              "      quickchartButtonEl.classList.add('colab-df-quickchart-complete');\n",
              "    }\n",
              "    (() => {\n",
              "      let quickchartButtonEl =\n",
              "        document.querySelector('#df-805f0bee-2584-482b-9472-3bf5f70a892f button');\n",
              "      quickchartButtonEl.style.display =\n",
              "        google.colab.kernel.accessAllowed ? 'block' : 'none';\n",
              "    })();\n",
              "  </script>\n",
              "</div>\n",
              "    </div>\n",
              "  </div>\n"
            ]
          },
          "metadata": {},
          "execution_count": 4
        }
      ]
    },
    {
      "cell_type": "code",
      "source": [
        "x=pd_train.to_numpy()\n",
        "ytrain=x[:,0]\n",
        "xtrain=x[:,1:]"
      ],
      "metadata": {
        "id": "L0RGhXarUQKI"
      },
      "execution_count": null,
      "outputs": []
    },
    {
      "cell_type": "code",
      "source": [
        "x=pd_valid.to_numpy()\n",
        "yvalid=x[:,0]\n",
        "xvalid=x[:,1:]"
      ],
      "metadata": {
        "id": "kvWT_dtuUdMU"
      },
      "execution_count": null,
      "outputs": []
    },
    {
      "cell_type": "code",
      "metadata": {
        "id": "KgLji8dPZOjc",
        "colab": {
          "base_uri": "https://localhost:8080/"
        },
        "outputId": "e0f8e01c-c076-4a69-f545-0ea265ef14e3"
      },
      "source": [
        "xvalid.shape\n"
      ],
      "execution_count": null,
      "outputs": [
        {
          "output_type": "execute_result",
          "data": {
            "text/plain": [
              "(9999, 784)"
            ]
          },
          "metadata": {},
          "execution_count": 7
        }
      ]
    },
    {
      "cell_type": "code",
      "source": [],
      "metadata": {
        "id": "RUwKtnhAT8CL"
      },
      "execution_count": null,
      "outputs": []
    },
    {
      "cell_type": "code",
      "metadata": {
        "id": "-1Jj825lbDP1",
        "outputId": "cfa2ca70-7bbe-4f87-ddfb-5412da9c43d6",
        "colab": {
          "base_uri": "https://localhost:8080/"
        }
      },
      "source": [
        "ytrain"
      ],
      "execution_count": null,
      "outputs": [
        {
          "output_type": "execute_result",
          "data": {
            "text/plain": [
              "array([5, 7, 9, ..., 2, 9, 5])"
            ]
          },
          "metadata": {},
          "execution_count": 9
        }
      ]
    },
    {
      "cell_type": "code",
      "metadata": {
        "id": "AfXZCmlRLIti",
        "outputId": "5c4aea4a-0c19-4af3-e90e-16800432b66a",
        "colab": {
          "base_uri": "https://localhost:8080/"
        }
      },
      "source": [
        "xtrain.shape"
      ],
      "execution_count": null,
      "outputs": [
        {
          "output_type": "execute_result",
          "data": {
            "text/plain": [
              "(19999, 784)"
            ]
          },
          "metadata": {},
          "execution_count": 10
        }
      ]
    },
    {
      "cell_type": "code",
      "metadata": {
        "id": "DWDOGlV9LM9h",
        "outputId": "d4964430-ee81-4e16-d622-0ae889ec7384",
        "colab": {
          "base_uri": "https://localhost:8080/"
        }
      },
      "source": [
        "m = xtrain[0].reshape((28,28))\n",
        "for linha in m:\n",
        "    print(linha)"
      ],
      "execution_count": null,
      "outputs": [
        {
          "output_type": "stream",
          "name": "stdout",
          "text": [
            "[0 0 0 0 0 0 0 0 0 0 0 0 0 0 0 0 0 0 0 0 0 0 0 0 0 0 0 0]\n",
            "[0 0 0 0 0 0 0 0 0 0 0 0 0 0 0 0 0 0 0 0 0 0 0 0 0 0 0 0]\n",
            "[0 0 0 0 0 0 0 0 0 0 0 0 0 0 0 0 0 0 0 0 0 0 0 0 0 0 0 0]\n",
            "[0 0 0 0 0 0 0 0 0 0 0 0 0 0 0 0 0 0 0 0 0 0 0 0 0 0 0 0]\n",
            "[0 0 0 0 0 0 0 0 0 0 0 0 0 0 0 0 0 0 0 0 0 0 0 0 0 0 0 0]\n",
            "[  0   0   0   0   0   0   0   0   0   0   0  28  59  50   0  23   0   0\n",
            "  32 134 180 254 206   8   0   0   0   0]\n",
            "[  0   0   0   0   0   0   0   0   4  96 216 233 254 248 215 231 215 215\n",
            " 236 254 250 181  27   0   0   0   0   0]\n",
            "[  0   0   0   0   0   0   0   0 108 254 254 247 175 175 175 176 175 175\n",
            " 205 175  60   0   0   0   0   0   0   0]\n",
            "[  0   0   0   0   0   0   0   0  47 254 245  85   0   0   0   0   0   0\n",
            "   8   0   0   0   0   0   0   0   0   0]\n",
            "[  0   0   0   0   0   0   0   0 152 254 158   0   0   0   0   0   0   0\n",
            "   0   0   0   0   0   0   0   0   0   0]\n",
            "[  0   0   0   0   0   0   0  19 240 255  38   0  41  50   0   0   0   0\n",
            "   0   0   0   0   0   0   0   0   0   0]\n",
            "[  0   0   0   0   0   0   0  87 254 254 178 215 242 248 215  96  19   0\n",
            "   0   0   0   0   0   0   0   0   0   0]\n",
            "[  0   0   0   0   0   0   0 176 254 254 254 217 175 187 254 254 248  85\n",
            "   0   0   0   0   0   0   0   0   0   0]\n",
            "[  0   0   0   0   0   0   0 161 247 214  57  11   0   3  19 177 248 248\n",
            " 129   9   0   0   0   0   0   0   0   0]\n",
            "[  0   0   0   0   0   0   0  18  49   0   0   0   0   0   0   0  57 224\n",
            " 254 171   0   0   0   0   0   0   0   0]\n",
            "[  0   0   0   0   0   0   0   0   0   0   0   0   0   0   0   0   0   0\n",
            " 213 255 122   0   0   0   0   0   0   0]\n",
            "[  0   0   0   0   0   0   0   0   0   0   0   0   0   0   0   0   0   0\n",
            "  92 254 196   0   0   0   0   0   0   0]\n",
            "[  0   0   0   0   0   0   0   0   0   0   0   0   0   0   0   0   0   0\n",
            "  40 254 196   0   0   0   0   0   0   0]\n",
            "[  0   0   0   0   0   0   0   0   0   0   0   0   0   0   0   0   0   0\n",
            " 145 254 196   0   0   0   0   0   0   0]\n",
            "[  0   0   0   0   0   0   0  31 188  45   0   0   0   0   0   0   0  99\n",
            " 249 254 121   0   0   0   0   0   0   0]\n",
            "[  0   0   0   0   0   0   0 139 245  45   0   0   0   0   0   0 140 254\n",
            " 254 133   0   0   0   0   0   0   0   0]\n",
            "[  0   0   0   0   0   0  17 242 169   0   0   0   0   4  58 216 248 254\n",
            " 167   9   0   0   0   0   0   0   0   0]\n",
            "[  0   0   0   0   0   0  14 230 196  79  49  79  79 181 254 254 247 108\n",
            "   6   0   0   0   0   0   0   0   0   0]\n",
            "[  0   0   0   0   0   0   0  44 213 254 247 254 254 254 254 192  32   0\n",
            "   0   0   0   0   0   0   0   0   0   0]\n",
            "[  0   0   0   0   0   0   0   0   9 133 156 193 155 140  58   0   0   0\n",
            "   0   0   0   0   0   0   0   0   0   0]\n",
            "[0 0 0 0 0 0 0 0 0 0 0 0 0 0 0 0 0 0 0 0 0 0 0 0 0 0 0 0]\n",
            "[0 0 0 0 0 0 0 0 0 0 0 0 0 0 0 0 0 0 0 0 0 0 0 0 0 0 0 0]\n",
            "[0 0 0 0 0 0 0 0 0 0 0 0 0 0 0 0 0 0 0 0 0 0 0 0 0 0 0 0]\n"
          ]
        }
      ]
    },
    {
      "cell_type": "code",
      "metadata": {
        "id": "-wHn8gTrZahc",
        "outputId": "d46a17b3-d2f8-45df-f3c4-0ece8fd379f5",
        "colab": {
          "base_uri": "https://localhost:8080/",
          "height": 1000
        }
      },
      "source": [
        "for i in range(10):\n",
        "    img = xtrain[i].reshape((28,28))\n",
        "    plt.imshow(img,cmap='Greys')\n",
        "    plt.title(ytrain[i])\n",
        "    plt.show()"
      ],
      "execution_count": null,
      "outputs": [
        {
          "output_type": "display_data",
          "data": {
            "text/plain": [
              "<Figure size 640x480 with 1 Axes>"
            ],
            "image/png": "[encoded data removed]"
          },
          "metadata": {}
        },
        {
          "output_type": "display_data",
          "data": {
            "text/plain": [
              "<Figure size 640x480 with 1 Axes>"
            ],
            "image/png": "[encoded data removed]"
          },
          "metadata": {}
        },
        {
          "output_type": "display_data",
          "data": {
            "text/plain": [
              "<Figure size 640x480 with 1 Axes>"
            ],
            "image/png": "[encoded data removed]"
          },
          "metadata": {}
        },
        {
          "output_type": "display_data",
          "data": {
            "text/plain": [
              "<Figure size 640x480 with 1 Axes>"
            ],
            "image/png": "[encoded data removed]"
          },
          "metadata": {}
        },
        {
          "output_type": "display_data",
          "data": {
            "text/plain": [
              "<Figure size 640x480 with 1 Axes>"
            ],
            "image/png": "[encoded data removed]"
          },
          "metadata": {}
        },
        {
          "output_type": "display_data",
          "data": {
            "text/plain": [
              "<Figure size 640x480 with 1 Axes>"
            ],
            "image/png": "[encoded data removed]"
          },
          "metadata": {}
        },
        {
          "output_type": "display_data",
          "data": {
            "text/plain": [
              "<Figure size 640x480 with 1 Axes>"
            ],
            "image/png": "[encoded data removed]"
          },
          "metadata": {}
        },
        {
          "output_type": "display_data",
          "data": {
            "text/plain": [
              "<Figure size 640x480 with 1 Axes>"
            ],
            "image/png": "[encoded data removed]"
          },
          "metadata": {}
        },
        {
          "output_type": "display_data",
          "data": {
            "text/plain": [
              "<Figure size 640x480 with 1 Axes>"
            ],
            "image/png": "[encoded data removed]"
          },
          "metadata": {}
        },
        {
          "output_type": "display_data",
          "data": {
            "text/plain": [
              "<Figure size 640x480 with 1 Axes>"
            ],
            "image/png": "[encoded data removed]"
          },
          "metadata": {}
        }
      ]
    },
    {
      "cell_type": "code",
      "metadata": {
        "id": "71KYDlVNaXoT"
      },
      "source": [
        "def normalize(x,mean,stddev): return (x-mean)/stddev\n"
      ],
      "execution_count": null,
      "outputs": []
    },
    {
      "cell_type": "code",
      "metadata": {
        "id": "_mQFOpcaxYEu",
        "colab": {
          "base_uri": "https://localhost:8080/"
        },
        "outputId": "83479974-1079-49d4-fc12-6ee011f6c950"
      },
      "source": [
        "xtrain.mean(),xtrain.std()"
      ],
      "execution_count": null,
      "outputs": [
        {
          "output_type": "execute_result",
          "data": {
            "text/plain": [
              "(33.32772448571408, 78.60042309323919)"
            ]
          },
          "metadata": {},
          "execution_count": 18
        }
      ]
    },
    {
      "cell_type": "code",
      "metadata": {
        "id": "lZfmoPs9cu6C",
        "outputId": "e976b28d-4831-4c78-f7c2-201a71e011e0",
        "colab": {
          "base_uri": "https://localhost:8080/"
        }
      },
      "source": [
        "\n",
        "xtrain_norm = normalize(xtrain,xtrain.mean(),xtrain.std())\n",
        "xvalid_norm   = normalize(xvalid,xvalid.mean(),xvalid.std())\n",
        "\n",
        "xtrain.mean(),xtrain.std(),xtrain_norm.mean(),xtrain_norm.std()"
      ],
      "execution_count": null,
      "outputs": [
        {
          "output_type": "execute_result",
          "data": {
            "text/plain": [
              "(33.32772448571408,\n",
              " 78.60042309323919,\n",
              " 1.714958889393234e-16,\n",
              " 1.0000000000000004)"
            ]
          },
          "metadata": {},
          "execution_count": 13
        }
      ]
    },
    {
      "cell_type": "code",
      "metadata": {
        "id": "UZrP-Kpbc7dx",
        "outputId": "f32a89f1-948f-4b54-a4e3-d11ec65dd3bb",
        "colab": {
          "base_uri": "https://localhost:8080/",
          "height": 1000
        }
      },
      "source": [
        "for i in range(3):\n",
        "    img = xtrain_norm[i].reshape((28,28))\n",
        "    plt.imshow(img,cmap='Greys')\n",
        "    plt.title(ytrain[i])\n",
        "    plt.show()"
      ],
      "execution_count": null,
      "outputs": [
        {
          "output_type": "display_data",
          "data": {
            "text/plain": [
              "<Figure size 640x480 with 1 Axes>"
            ],
            "image/png": "[encoded data removed]"
          },
          "metadata": {}
        },
        {
          "output_type": "display_data",
          "data": {
            "text/plain": [
              "<Figure size 640x480 with 1 Axes>"
            ],
            "image/png": "[encoded data removed]"
          },
          "metadata": {}
        },
        {
          "output_type": "display_data",
          "data": {
            "text/plain": [
              "<Figure size 640x480 with 1 Axes>"
            ],
            "image/png": "[encoded data removed]"
          },
          "metadata": {}
        }
      ]
    },
    {
      "cell_type": "markdown",
      "metadata": {
        "id": "de8iffIkdi8r"
      },
      "source": [
        "# Estrutura básica"
      ]
    },
    {
      "cell_type": "markdown",
      "metadata": {
        "id": "vRiOt_HdmZ5F"
      },
      "source": [
        "## Função linear"
      ]
    },
    {
      "cell_type": "code",
      "metadata": {
        "id": "75_gesodeMPo",
        "outputId": "de5f9621-14c8-40e5-d2a4-fe42e2adcf7b",
        "colab": {
          "base_uri": "https://localhost:8080/"
        }
      },
      "source": [
        "xtrain_norm.shape,xtrain_norm.mean(),xtrain_norm.std()"
      ],
      "execution_count": null,
      "outputs": [
        {
          "output_type": "execute_result",
          "data": {
            "text/plain": [
              "((19999, 784), 1.714958889393234e-16, 1.0000000000000004)"
            ]
          },
          "metadata": {},
          "execution_count": 14
        }
      ]
    },
    {
      "cell_type": "code",
      "metadata": {
        "id": "FTIrC73dxisU",
        "colab": {
          "base_uri": "https://localhost:8080/"
        },
        "outputId": "e7e576be-5ec7-426d-d050-de1fa667b994"
      },
      "source": [
        "xtrain.shape"
      ],
      "execution_count": null,
      "outputs": [
        {
          "output_type": "execute_result",
          "data": {
            "text/plain": [
              "(19999, 784)"
            ]
          },
          "metadata": {},
          "execution_count": 15
        }
      ]
    },
    {
      "cell_type": "code",
      "source": [
        "ytrain[0]"
      ],
      "metadata": {
        "colab": {
          "base_uri": "https://localhost:8080/"
        },
        "id": "fHIC6b8axzoN",
        "outputId": "a8631b06-e5cb-4a7f-de40-b02b5934c5b9"
      },
      "execution_count": null,
      "outputs": [
        {
          "output_type": "execute_result",
          "data": {
            "text/plain": [
              "5"
            ]
          },
          "metadata": {},
          "execution_count": 18
        }
      ]
    },
    {
      "cell_type": "code",
      "metadata": {
        "id": "GVyAOyYgdYqJ"
      },
      "source": [
        "#numero neuronios\n",
        "num_n = 50\n",
        "n,m = xtrain.shape\n",
        "\n",
        "# Inicializando com Xavier\n",
        "w1 = np.random.randn(m,num_n)/np.sqrt(m)\n",
        "w2 = np.random.randn(num_n,1)/np.sqrt(num_n)"
      ],
      "execution_count": null,
      "outputs": []
    },
    {
      "cell_type": "code",
      "metadata": {
        "id": "VE7beJoMeA5A"
      },
      "source": [
        "def lin(x,w): return x@w"
      ],
      "execution_count": null,
      "outputs": []
    },
    {
      "cell_type": "code",
      "metadata": {
        "id": "SbJpGK9MfPj_"
      },
      "source": [
        "res = lin(xvalid_norm[0],w1)"
      ],
      "execution_count": null,
      "outputs": []
    },
    {
      "cell_type": "code",
      "source": [
        "res.shape"
      ],
      "metadata": {
        "colab": {
          "base_uri": "https://localhost:8080/"
        },
        "id": "4NBRJjPyyLCf",
        "outputId": "3cfedf47-57ae-465d-f69e-da395e501216"
      },
      "execution_count": null,
      "outputs": [
        {
          "output_type": "execute_result",
          "data": {
            "text/plain": [
              "(50,)"
            ]
          },
          "metadata": {},
          "execution_count": 24
        }
      ]
    },
    {
      "cell_type": "code",
      "metadata": {
        "id": "TSpfd0mnfeqo",
        "outputId": "366abd1d-1d1f-46df-eec6-5e8d839c49c6",
        "colab": {
          "base_uri": "https://localhost:8080/"
        }
      },
      "source": [
        "res.mean(),res.std()"
      ],
      "execution_count": null,
      "outputs": [
        {
          "output_type": "execute_result",
          "data": {
            "text/plain": [
              "(0.060143123399261034, 1.1292606581543767)"
            ]
          },
          "metadata": {},
          "execution_count": 25
        }
      ]
    },
    {
      "cell_type": "code",
      "metadata": {
        "id": "fPj8HsB3fhhv"
      },
      "source": [
        "def relu(x): return np.maximum(x,0) -0.6"
      ],
      "execution_count": null,
      "outputs": []
    },
    {
      "cell_type": "code",
      "metadata": {
        "id": "coj4XDXvlyg-"
      },
      "source": [
        "def reglog(x): return 1/(1+np.exp(-x))"
      ],
      "execution_count": null,
      "outputs": []
    },
    {
      "cell_type": "code",
      "metadata": {
        "id": "P2E9oKEajrK8"
      },
      "source": [
        "res = reglog(lin(xvalid_norm,w1))"
      ],
      "execution_count": null,
      "outputs": []
    },
    {
      "cell_type": "code",
      "source": [
        "res =reglog(xvalid_norm@w1)@w2"
      ],
      "metadata": {
        "id": "xsSXduzNymaz"
      },
      "execution_count": null,
      "outputs": []
    },
    {
      "cell_type": "code",
      "source": [
        "res[0]\n"
      ],
      "metadata": {
        "colab": {
          "base_uri": "https://localhost:8080/"
        },
        "id": "MoDsb6nmycWP",
        "outputId": "95e06c50-681d-4c30-df28-1d646c207eb5"
      },
      "execution_count": null,
      "outputs": [
        {
          "output_type": "execute_result",
          "data": {
            "text/plain": [
              "array([0.14482357])"
            ]
          },
          "metadata": {},
          "execution_count": 48
        }
      ]
    },
    {
      "cell_type": "code",
      "source": [
        "res"
      ],
      "metadata": {
        "colab": {
          "base_uri": "https://localhost:8080/"
        },
        "id": "WsGwnDBU225S",
        "outputId": "f884aba8-ae40-4b0a-8e0d-70011052bd98"
      },
      "execution_count": null,
      "outputs": [
        {
          "output_type": "execute_result",
          "data": {
            "text/plain": [
              "array([[0.14482357],\n",
              "       [0.26155723],\n",
              "       [0.21868447],\n",
              "       ...,\n",
              "       [0.1493883 ],\n",
              "       [0.1252403 ],\n",
              "       [0.40526896]])"
            ]
          },
          "metadata": {},
          "execution_count": 50
        }
      ]
    },
    {
      "cell_type": "code",
      "metadata": {
        "id": "DCtutC1Kjzs9",
        "outputId": "24e7e829-396b-4720-afe8-f01d2e30d400",
        "colab": {
          "base_uri": "https://localhost:8080/"
        }
      },
      "source": [
        "res.mean(),res.std()"
      ],
      "execution_count": null,
      "outputs": [
        {
          "output_type": "execute_result",
          "data": {
            "text/plain": [
              "(0.27744723741797783, 0.16120322568716192)"
            ]
          },
          "metadata": {},
          "execution_count": 51
        }
      ]
    },
    {
      "cell_type": "code",
      "metadata": {
        "id": "_5Ve2YqRlDyk"
      },
      "source": [
        "res = reglog(lin(xvalid_norm,w1))"
      ],
      "execution_count": null,
      "outputs": []
    },
    {
      "cell_type": "code",
      "metadata": {
        "id": "9Hh2mej9m4Ml"
      },
      "source": [
        "def model(x):\n",
        "    l1 = lin(x,w1) # x@w1\n",
        "    l2 = reglog(l1)\n",
        "    l3 = lin(l2,w2)\n",
        "    return l3"
      ],
      "execution_count": null,
      "outputs": []
    },
    {
      "cell_type": "code",
      "metadata": {
        "id": "zofUtzGRnSSk"
      },
      "source": [
        "r = model(xtrain_norm)"
      ],
      "execution_count": null,
      "outputs": []
    },
    {
      "cell_type": "code",
      "metadata": {
        "id": "sDLLumP-nc1A",
        "outputId": "42510bbf-022c-444b-afd8-083b0c6ff0ce",
        "colab": {
          "base_uri": "https://localhost:8080/"
        }
      },
      "source": [
        "%timeit -n 10 _ = model(xtrain_norm)"
      ],
      "execution_count": null,
      "outputs": [
        {
          "output_type": "stream",
          "name": "stdout",
          "text": [
            "180 ms ± 37.6 ms per loop (mean ± std. dev. of 7 runs, 10 loops each)\n"
          ]
        }
      ]
    },
    {
      "cell_type": "code",
      "metadata": {
        "id": "W9yYbiGUDVT6"
      },
      "source": [],
      "execution_count": null,
      "outputs": []
    },
    {
      "cell_type": "markdown",
      "metadata": {
        "id": "bGivkvg8me-N"
      },
      "source": [
        "## Definindo a Loss"
      ]
    },
    {
      "cell_type": "code",
      "metadata": {
        "id": "sxJbwctzmAqd"
      },
      "source": [
        "def mse(x,y): return np.mean(np.power(x.squeeze(-1)-y,2))"
      ],
      "execution_count": null,
      "outputs": []
    },
    {
      "cell_type": "code",
      "metadata": {
        "id": "Mc-4pWd7n-xE"
      },
      "source": [
        "pred = model(xtrain_norm)"
      ],
      "execution_count": null,
      "outputs": []
    },
    {
      "cell_type": "code",
      "metadata": {
        "id": "Uehae0l6oHXl",
        "outputId": "8acc7aa1-7fbe-40da-a48a-ac05406495e3",
        "colab": {
          "base_uri": "https://localhost:8080/"
        }
      },
      "source": [
        "pred.shape"
      ],
      "execution_count": null,
      "outputs": [
        {
          "output_type": "execute_result",
          "data": {
            "text/plain": [
              "(19999, 1)"
            ]
          },
          "metadata": {},
          "execution_count": 58
        }
      ]
    },
    {
      "cell_type": "code",
      "metadata": {
        "id": "PjVcRRwcoNns"
      },
      "source": [
        "ytrain = ytrain.astype(float)"
      ],
      "execution_count": null,
      "outputs": []
    },
    {
      "cell_type": "code",
      "metadata": {
        "id": "KhtxdMW-p2PC",
        "outputId": "f9fe7262-d8d4-4bae-8608-667f92a85c8d",
        "colab": {
          "base_uri": "https://localhost:8080/"
        }
      },
      "source": [
        "ytrain.shape"
      ],
      "execution_count": null,
      "outputs": [
        {
          "output_type": "execute_result",
          "data": {
            "text/plain": [
              "(19999,)"
            ]
          },
          "metadata": {},
          "execution_count": 60
        }
      ]
    },
    {
      "cell_type": "code",
      "metadata": {
        "id": "7s8mN16oqRHj",
        "outputId": "d8f89c59-50f9-44c5-c8ea-81c68135147e",
        "colab": {
          "base_uri": "https://localhost:8080/"
        }
      },
      "source": [
        "pred.squeeze(-1).shape"
      ],
      "execution_count": null,
      "outputs": [
        {
          "output_type": "execute_result",
          "data": {
            "text/plain": [
              "(19999,)"
            ]
          },
          "metadata": {},
          "execution_count": 61
        }
      ]
    },
    {
      "cell_type": "code",
      "metadata": {
        "id": "8KC5zps2SiAr",
        "outputId": "20103c98-b4a8-495e-80b4-bb2550ed30f9",
        "colab": {
          "base_uri": "https://localhost:8080/"
        }
      },
      "source": [
        "x  = np.array([1,1])\n",
        "y  = np.array([3,4])\n",
        "print(x-y)"
      ],
      "execution_count": null,
      "outputs": [
        {
          "output_type": "stream",
          "name": "stdout",
          "text": [
            "[-2 -3]\n"
          ]
        }
      ]
    },
    {
      "cell_type": "code",
      "metadata": {
        "id": "_-mLrXhMsB6C",
        "outputId": "a9105acd-f215-4e1d-b5a8-f4ae80a3feda",
        "colab": {
          "base_uri": "https://localhost:8080/"
        }
      },
      "source": [
        "pred.shape"
      ],
      "execution_count": null,
      "outputs": [
        {
          "output_type": "execute_result",
          "data": {
            "text/plain": [
              "(19999, 1)"
            ]
          },
          "metadata": {},
          "execution_count": 63
        }
      ]
    },
    {
      "cell_type": "code",
      "metadata": {
        "id": "FqpWX5rZqaUz"
      },
      "source": [
        "r = mse(pred,ytrain)"
      ],
      "execution_count": null,
      "outputs": []
    },
    {
      "cell_type": "code",
      "metadata": {
        "id": "XDCeGO2Erwci",
        "outputId": "390777f1-8bb0-4e55-b815-10391f71e322",
        "colab": {
          "base_uri": "https://localhost:8080/"
        }
      },
      "source": [
        "r"
      ],
      "execution_count": null,
      "outputs": [
        {
          "output_type": "execute_result",
          "data": {
            "text/plain": [
              "26.101736816822807"
            ]
          },
          "metadata": {},
          "execution_count": 65
        }
      ]
    },
    {
      "cell_type": "markdown",
      "metadata": {
        "id": "tAxeTBFHvnH7"
      },
      "source": [
        "\n",
        "##Calculando os gradientes"
      ]
    },
    {
      "cell_type": "markdown",
      "metadata": {
        "id": "20oKN3RM_9HH"
      },
      "source": [
        "\n",
        "### Forward\n",
        "\n",
        "$MLP(x) = \\sigma(x\\times w_1) \\times w_2$\n",
        "\n",
        "onde $\\sigma(z) = \\frac{1}{1+e^{-z}}$ é a função de ativação logística\n",
        "\n",
        "\n",
        "Ao aplicamos a MSE como função loss obtemos\n",
        "\n",
        "$Loss(x,y) = (\\sigma(x\\times w_1) \\times w_2 - y)^2$\n",
        "\n",
        "Assim temos\n",
        "\n",
        "$f_1 = x\\times w_1$\n",
        "\n",
        "$f_2 = \\sigma(f_1)$\n",
        "\n",
        "$f_3 = f_2 \\times w_2$\n",
        "\n",
        "$f_4 = f_3 - y$\n",
        "\n",
        "$f_5 = f_4^2$\n",
        "\n",
        "Observe que $f_3$ é equivalente a $MLP(x)$\n",
        "\n",
        "### Backward\n",
        "\n",
        "Calculando as derivadas\n",
        "\n",
        "$\\frac{\\partial f_1}{\\partial  w_1} = x$\n",
        "\n",
        "$\\frac{\\partial f_2}{\\partial f_1} = \\sigma(f_1) \\times (1-\\sigma(f_1)) = f_2(1-f_2)$\n",
        "\n",
        "$\\frac{\\partial f_3}{\\partial f_2} = w_2$\n",
        "\n",
        "\n",
        "$\\frac{\\partial f_3}{\\partial w_2} = f_2$\n",
        "\n",
        "\n",
        "$\\frac{\\partial f_4}{\\partial f_3} = 1$\n",
        "\n",
        "\n",
        "$\\frac{\\partial f_5}{\\partial f_4} = 2 f_4$\n",
        "\n",
        "Assim\n",
        "\n",
        "\n",
        "$\\frac{\\partial Loss}{\\partial w_2} = \\frac{\\partial f_5}{\\partial f_4} \\frac{\\partial f_4}{\\partial f_3} \\frac{\\partial f_3}{\\partial w_2} =  2 f_4 \\times 1\\times f_2$\n",
        "\n",
        "$\\frac{\\partial Loss}{\\partial w_1} = \\frac{\\partial f_5}{\\partial f_4} \\frac{\\partial f_4}{\\partial f_3} \\frac{\\partial f_3}{\\partial f_2} \\frac{\\partial f_2}{\\partial f_1} \\frac{\\partial f_1}{\\partial w_1}= 2 f_4 \\times 1\\times w_2 \\times f_2(1-f_2) \\times x$\n",
        "\n",
        "\n",
        "\n",
        "\n"
      ]
    },
    {
      "cell_type": "code",
      "metadata": {
        "id": "xJY2BcaVBx4n"
      },
      "source": [
        "#Exercício\n",
        "#Implementar a MLP\n",
        "def train(x, y):\n",
        "    #numero neuronios\n",
        "    num_n = 50\n",
        "    n,m = x.shape\n",
        "    # Inicializando com Kaiming\n",
        "    w1 = np.random.randn(m,num_n)*np.sqrt(2/m)\n",
        "    w2 = np.random.randn(num_n,1)*np.sqrt(2/num_n)\n",
        "    alpha = 0.00001\n",
        "    y=y.reshape(-1,1)\n",
        "    for epoch in range(10000):\n",
        "        f1 = x@w1                  #(100, 50)\n",
        "        f2 = 1/(1+np.exp(-f1))     #(100, 50)\n",
        "        f3 = f2@w2                 #(100, 1)\n",
        "        f4 = f3 - y                #(100, 1)\n",
        "        f5 = np.square(f4).sum()   # scalar\n",
        "        #print(f1.shape,f2.shape,f3.shape,f4.shape,f5.shape)\n",
        "        #(100, 50) (100, 50) (100, 1) (100, 1)\n",
        "\n",
        "        if epoch%100==0: print(epoch,f5)\n",
        "\n",
        "        # gradiente mse (100,1)\n",
        "        df5 = 2.0*(f4)\n",
        "\n",
        "        df4 = df5\n",
        "\n",
        "        # gradiente w2 (50,100)x(100,1) = (50,1)\n",
        "        g_w2     = f2.T.dot(df4)\n",
        "\n",
        "        #          (100,1) (1,50) = (100,50)\n",
        "        df3      = df4.dot(w2.T)\n",
        "\n",
        "        # gradiente da sigmoid (100,50)*(100,50)*(1-(100,50)) = (100,50)\n",
        "        df2      = df3*f2*(1-f2)\n",
        "\n",
        "        # gradiente w1 (784,100)x(100,50) = (784,50)\n",
        "        g_w1     = x.T.dot(df2)\n",
        "\n",
        "        # atualizacao de pesos\n",
        "        w1 -= alpha*g_w1\n",
        "        w2 -= alpha*g_w2\n",
        "    return (w1,w2)\n"
      ],
      "execution_count": null,
      "outputs": []
    },
    {
      "cell_type": "markdown",
      "metadata": {
        "id": "x_FbEAISLqRQ"
      },
      "source": [
        "\n",
        "Assim colocando código temos que\n",
        "\n",
        "g_w2 = $\\frac{dLoss}{dw_2}$  \n",
        "\n",
        "g_w1 = $\\frac{dLoss}{dw_1}$\n",
        "\n",
        "Que representam os gradientes para a atualização"
      ]
    },
    {
      "cell_type": "code",
      "metadata": {
        "id": "CMzlIvs52YAS",
        "colab": {
          "base_uri": "https://localhost:8080/"
        },
        "outputId": "84dea636-e8eb-4489-fab1-2319df4a1350"
      },
      "source": [
        "r=train(xtrain_norm[:1000], ytrain[:1000])"
      ],
      "execution_count": null,
      "outputs": [
        {
          "output_type": "stream",
          "name": "stdout",
          "text": [
            "0 32657.667196276714\n",
            "100 3112.87957971764\n",
            "200 2396.0908168128835\n",
            "300 1887.745066078256\n",
            "400 1507.968529983665\n",
            "500 1219.1118739256658\n",
            "600 993.8176821826636\n",
            "700 814.4798690445884\n",
            "800 670.4373760547298\n",
            "900 554.625376892491\n",
            "1000 461.48179550167845\n",
            "1100 386.41631593702016\n",
            "1200 325.7604276049449\n",
            "1300 276.5603922209433\n",
            "1400 236.41447841604105\n",
            "1500 203.40306831739056\n",
            "1600 176.03327630762323\n",
            "1700 153.15942457061527\n",
            "1800 133.90069051198859\n",
            "1900 117.57436533097693\n",
            "2000 103.64660884226566\n",
            "2100 91.69652481679253\n",
            "2200 81.38961241964415\n",
            "2300 72.4579470211639\n",
            "2400 64.68532449972591\n",
            "2500 57.89607401069022\n",
            "2600 51.94651546285314\n",
            "2700 46.718265187641734\n",
            "2800 42.11286260491232\n",
            "2900 38.047474961223315\n",
            "3000 34.45160564776603\n",
            "3100 31.264711710840945\n",
            "3200 28.434528532402496\n",
            "3300 25.915853104190788\n",
            "3400 23.669586812002812\n",
            "3500 21.661923925360362\n",
            "3600 19.86363755642953\n",
            "3700 18.249447586331076\n",
            "3800 16.797465538964072\n",
            "3900 15.488712199273834\n",
            "4000 14.306702171441419\n",
            "4100 13.237088299086224\n",
            "4200 12.267358462705335\n",
            "4300 11.386577533604857\n",
            "4400 10.585167896335093\n",
            "4500 9.854722727894973\n",
            "4600 9.187847009639476\n",
            "4700 8.578021981378468\n",
            "4800 8.019489400355692\n",
            "4900 7.507152535050327\n",
            "5000 7.03649130921944\n",
            "5100 6.603489423430291\n",
            "5200 6.204571628750552\n",
            "5300 5.836549619276174\n",
            "5400 5.4965752550135205\n",
            "5500 5.182100031577292\n",
            "5600 4.890839884536107\n",
            "5700 4.620744559458531\n",
            "5800 4.369970898394879\n",
            "5900 4.1368594935767895\n",
            "6000 3.919914242807015\n",
            "6100 3.7177844110946876\n",
            "6200 3.5292488618598785\n",
            "6300 3.353202170393807\n",
            "6400 3.188642373800987\n",
            "6500 3.0346601466812015\n",
            "6600 2.8904292214171856\n",
            "6700 2.7551978970182094\n",
            "6800 2.6282815017735084\n",
            "6900 2.5090556931068337\n",
            "7000 2.396950493504306\n",
            "7100 2.291444974634056\n",
            "7200 2.19206251313701\n",
            "7300 2.098366551337122\n",
            "7400 2.009956804536477\n",
            "7500 1.926465863831532\n",
            "7600 1.8475561496783117\n",
            "7700 1.7729171768919607\n",
            "7800 1.7022630965071965\n",
            "7900 1.6353304840540377\n",
            "8000 1.5718763474022288\n",
            "8100 1.5116763304715053\n",
            "8200 1.454523091854655\n",
            "8300 1.400224839809599\n",
            "8400 1.348604007189814\n",
            "8500 1.299496051739095\n",
            "8600 1.2527483688092813\n",
            "8700 1.208219304997344\n",
            "8800 1.1657772624657121\n",
            "8900 1.1252998848285052\n",
            "9000 1.086673316474462\n",
            "9100 1.049791528071649\n",
            "9200 1.0145557017727675\n",
            "9300 0.9808736703256855\n",
            "9400 0.9486594049021615\n",
            "9500 0.9178325469977997\n",
            "9600 0.8883179802361987\n",
            "9700 0.8600454383373928\n",
            "9800 0.8329491458905862\n",
            "9900 0.806967488910144\n"
          ]
        }
      ]
    },
    {
      "cell_type": "code",
      "source": [
        "np.unique(ytrain[:1000],return_counts=True)"
      ],
      "metadata": {
        "colab": {
          "base_uri": "https://localhost:8080/"
        },
        "id": "Tq13UQyHBxZN",
        "outputId": "3c3f7d01-8738-4803-cbff-94945dc85586"
      },
      "execution_count": null,
      "outputs": [
        {
          "output_type": "execute_result",
          "data": {
            "text/plain": [
              "(array([0., 1., 2., 3., 4., 5., 6., 7., 8., 9.]),\n",
              " array([ 85, 105, 113, 103,  88,  82,  87, 109, 108, 120]))"
            ]
          },
          "metadata": {},
          "execution_count": 86
        }
      ]
    },
    {
      "cell_type": "code",
      "metadata": {
        "id": "OSnk6G9521x7",
        "colab": {
          "base_uri": "https://localhost:8080/",
          "height": 1000
        },
        "outputId": "4ff25916-e27e-4826-c3bd-945390f30bca"
      },
      "source": [
        "for i in range(2000,2003):\n",
        "    img = xtrain_norm[i].reshape((28,28))\n",
        "    plt.imshow(img,cmap='Greys')\n",
        "    plt.title(ytrain[i])\n",
        "    plt.show()"
      ],
      "execution_count": null,
      "outputs": [
        {
          "output_type": "display_data",
          "data": {
            "text/plain": [
              "<Figure size 640x480 with 1 Axes>"
            ],
            "image/png": "[encoded data removed]"
          },
          "metadata": {}
        },
        {
          "output_type": "display_data",
          "data": {
            "text/plain": [
              "<Figure size 640x480 with 1 Axes>"
            ],
            "image/png": "[encoded data removed]"
          },
          "metadata": {}
        },
        {
          "output_type": "display_data",
          "data": {
            "text/plain": [
              "<Figure size 640x480 with 1 Axes>"
            ],
            "image/png": "[encoded data removed]"
          },
          "metadata": {}
        }
      ]
    },
    {
      "cell_type": "code",
      "source": [
        "(wr1,wr2)=r"
      ],
      "metadata": {
        "id": "bJZwKb-PsyTw"
      },
      "execution_count": null,
      "outputs": []
    },
    {
      "cell_type": "code",
      "source": [],
      "metadata": {
        "id": "6vrg4MjqCYxW"
      },
      "execution_count": null,
      "outputs": []
    },
    {
      "cell_type": "code",
      "metadata": {
        "id": "nPZ7tKdl3Spj",
        "colab": {
          "base_uri": "https://localhost:8080/"
        },
        "outputId": "6ba8c556-9607-4bf2-82d4-31c9fe89152a"
      },
      "source": [
        "reglog(xtrain_norm[2000:2003]@wr1)@wr2"
      ],
      "execution_count": null,
      "outputs": [
        {
          "output_type": "execute_result",
          "data": {
            "text/plain": [
              "array([[8.25851901],\n",
              "       [1.00519316],\n",
              "       [3.26005858]])"
            ]
          },
          "metadata": {},
          "execution_count": 88
        }
      ]
    },
    {
      "cell_type": "code",
      "metadata": {
        "id": "--vzpNaR3gyu"
      },
      "source": [
        "# Mesmo código mas com representação mais compacta\n",
        "\n",
        "def train(x, y):\n",
        "    #numero neuronios\n",
        "    num_n = 50\n",
        "    n,m = x.shape\n",
        "    # Inicializando com Kaiming\n",
        "    w1 = np.random.randn(m,num_n)*np.sqrt(2/m)\n",
        "    w2 = np.random.randn(num_n,1)*np.sqrt(2/num_n)\n",
        "    alpha = 0.001\n",
        "\n",
        "    print(type(x))\n",
        "    y=y.reshape(-1,1)\n",
        "    for epoch in range(100000):\n",
        "        h = 1/(1+np.exp(-x.dot(w1)))\n",
        "        y_pred = h.dot(w2)\n",
        "        loss   = np.square(y_pred - y).sum()\n",
        "        if epoch%1000==0: print(epoch,loss)\n",
        "        g_y_pred = 2.0*(y_pred -y)\n",
        "        g_w2     = h.T.dot(g_y_pred)\n",
        "        g_h      = g_y_pred.dot(w2.T)\n",
        "        g_w1     = x.T.dot(g_h*h*(1-h))\n",
        "        w1 -= alpha*g_w1\n",
        "        w2 -= alpha*g_w2"
      ],
      "execution_count": null,
      "outputs": []
    },
    {
      "cell_type": "code",
      "source": [],
      "metadata": {
        "id": "zPWp6qcaV3t1"
      },
      "execution_count": null,
      "outputs": []
    },
    {
      "cell_type": "markdown",
      "source": [
        "Exercício) Suponha que você esteja trabalhando em um problema de classificação binária para prever se um aluno será aprovado ou reprovado em um exame com base em duas características: horas de estudo e notas obtidas em provas anteriores.\n",
        "Você tem um conjunto de dados de treinamento com 300 exemplos, onde x é uma matriz de tamanho 300x2, contendo as características de entrada (horas de estudo e notas de provas anteriores) e y é um vetor de tamanho 300, contendo os rótulos de aprovação/reprovação correspondentes (0 para reprovação e 1 para aprovação).\n",
        ">Obs.: Crie sua própria base de dados ou faça um random.rand()*10 para, por exemplo, criar valores de 0 a 10.\n",
        "Além disso, explique ao final o que você entendeu sobre o resultado e o que significa o valor final."
      ],
      "metadata": {
        "id": "IHLS9t18k-_D"
      }
    },
    {
      "cell_type": "code",
      "source": [],
      "metadata": {
        "id": "sdffugr8lC5v"
      },
      "execution_count": null,
      "outputs": []
    },
    {
      "cell_type": "markdown",
      "source": [
        "Exercício) Implemente uma MLP com 1 camada oculta e 2 neurônios de entrada, 3 neurônios ocultos e 1 neurônio de saída. Use a função de ativação sigmoid para todos os neurônios. Treine a MLP usando backpropagation em um conjunto de dados simples, como o problema XOR, por exemplo."
      ],
      "metadata": {
        "id": "ZcaKSjrb1DSW"
      }
    },
    {
      "cell_type": "code",
      "source": [],
      "metadata": {
        "id": "woztsptC1Eru"
      },
      "execution_count": null,
      "outputs": []
    },
    {
      "cell_type": "markdown",
      "source": [
        "Exercício) Modifique o exercício anterior para usar uma função de ativação diferente para os neurônios ocultos, como ReLU. Compare o desempenho da MLP modificada com a MLP original."
      ],
      "metadata": {
        "id": "E6jRvlsJ1FlY"
      }
    },
    {
      "cell_type": "code",
      "source": [],
      "metadata": {
        "id": "x8VXzHMZ1JRe"
      },
      "execution_count": null,
      "outputs": []
    },
    {
      "cell_type": "markdown",
      "source": [
        "Exercício) Implemente uma MLP com 2 camadas ocultas e 3 neurônios de entrada, 5 neurônios ocultos na primeira camada oculta, 4 neurônios ocultos na segunda camada oculta e 1 neurônio de saída. Use a função de ativação sigmoid para todos os neurônios. Treine a MLP usando backpropagation em um conjunto de dados mais complexo, como o problema de classificação de flores Iris, por exemplo."
      ],
      "metadata": {
        "id": "YNUAEKKN1J7h"
      }
    },
    {
      "cell_type": "code",
      "source": [],
      "metadata": {
        "id": "mqXDOP_V1Nsu"
      },
      "execution_count": null,
      "outputs": []
    },
    {
      "cell_type": "markdown",
      "source": [
        "Exercício) Modifique o exercício anterior para usar uma função de ativação diferente para os neurônios ocultos, como ReLU. Compare o desempenho da MLP modificada com a MLP original."
      ],
      "metadata": {
        "id": "HR5b9E1F1OEu"
      }
    },
    {
      "cell_type": "code",
      "source": [],
      "metadata": {
        "id": "BdUqSFjI1Qv0"
      },
      "execution_count": null,
      "outputs": []
    },
    {
      "cell_type": "markdown",
      "source": [
        "Exemplo) Suponha que temos um conjunto de dados consistindo em 4 entradas e saídas da seguinte forma:\n",
        "\n",
        "Entrada1 Entrada2 Saída\n",
        "\n",
        "0 0 0\n",
        "\n",
        "0 1 1\n",
        "\n",
        "1 0 1\n",
        "\n",
        "1 1 0\n",
        "\n",
        "Queremos treinar uma MLP com uma camada oculta e 2 neurônios de entrada, 3 neurônios ocultos e 1 neurônio de saída. Usaremos a função de ativação sigmoid para todos os neurônios.\n",
        "\n",
        "Primeiro, precisamos inicializar os pesos da MLP aleatoriamente. Vamos assumir as seguintes matrizes de peso para a MLP:\n",
        "\n",
        "W1 = [[-0.2, 0.3], [0.4, -0.5], [-0.6, 0.1]]\n",
        "\n",
        "W2 = [[0.7, -0.8, 0.9]]\n",
        "\n",
        "Aqui, W1 contém os pesos que conectam a camada de entrada à camada oculta, e W2 contém os pesos que conectam a camada oculta à camada de saída.\n",
        "\n",
        "Em seguida, definiremos os algoritmos forward pass e backward pass. O algoritmo forward pass calcula a saída da MLP dada uma entrada, e o algoritmo backward pass calcula os gradientes dos pesos em relação à função de perda usando backpropagation."
      ],
      "metadata": {
        "id": "zXdDHJAV1cjU"
      }
    },
    {
      "cell_type": "code",
      "source": [
        "W1 = np.array([[-0.2, 0.3], [0.4, -0.5], [-0.6, 0.1]])\n",
        "W2 = np.array([[0.7, -0.8, 0.9]])\n",
        "X = np.array([[0, 0], [0, 1], [1, 0], [1, 1]])\n",
        "y = np.array([0, 1, 1, 0])\n",
        "\n",
        "def forward_pass(x):\n",
        "    z1 = np.dot(W1, x)\n",
        "    h1 = 1 / (1 + np.exp(-z1))\n",
        "    z2 = np.dot(W2, h1)\n",
        "    y = 1 / (1 + np.exp(-z2))\n",
        "    return y\n",
        "\n",
        "  # Aqui, x é o vetor de entrada, z1 e h1 são os valores de pré-ativação\n",
        "  # e ativação para a camada oculta, e z2 e y são os valores de\n",
        "  # pré-ativação e ativação para a camada de saída."
      ],
      "metadata": {
        "id": "Krfcv25X1eVH"
      },
      "execution_count": null,
      "outputs": []
    },
    {
      "cell_type": "code",
      "source": [
        "def backward_pass(x, y_true, y_pred):\n",
        "    dL_dy = y_pred - y_true\n",
        "    dy_dz2 = y_pred * (1 - y_pred)\n",
        "    dz2_dw2 = h1.T\n",
        "    dL_dw2 = np.dot(dL_dy * dy_dz2, dz2_dw2)\n",
        "    dz2_dh1 = W2\n",
        "    dh1_dz1 = h1 * (1 - h1)\n",
        "    dz1_dw1 = x\n",
        "    dL_dw1 = np.dot(np.dot(dL_dy * dy_dz2, dz2_dh1), dh1_dz1) * dz1_dw1.T\n",
        "\n",
        "    return dL_dw1, dL_dw2"
      ],
      "metadata": {
        "id": "ORmaR88Z1pqh"
      },
      "execution_count": null,
      "outputs": []
    },
    {
      "cell_type": "markdown",
      "source": [
        "Aqui, y_true é o valor de saída verdadeiro para a entrada x, dL_dy é a derivada da função de perda em relação ao valor de saída previsto y_pred, e dy_dz2 é a derivada da função de ativação sigmoid.\n",
        "\n",
        "dz2_dw2 é a derivada dos valores de pré-ativação em relação aos pesos que conectam a camada oculta à camada de saída, e dL_dw2 é o gradiente da função de perda em relação a esses pesos. Da mesma forma, dz2_dh1 é a derivada dos valores de pré-ativação em relação aos valores de ativação para a camada oculta, e dh1_dz1 é a derivada da função de ativação sigmoid. dz1_dw1 é a derivada dos valores de pré-ativação em relação aos pesos que conectam a camada de entrada à camada oculta, e dL_dw1 é o gradiente da função de perda em relação a esses pesos.\n",
        "\n",
        "Finalmente, treinaremos a MLP no conjunto de dados usando descida de gradiente estocástica (SGD)"
      ],
      "metadata": {
        "id": "hjr-9iKH1sTz"
      }
    },
    {
      "cell_type": "code",
      "source": [
        "taxa_de_aprendizagem = 0.1\n",
        "\n",
        "for epoch in range(10000):\n",
        "    for i in range(len(X)):\n",
        "        x = X[i].reshape(-1, 1)\n",
        "        y_true = y[i]\n",
        "\n",
        "        z1 = np.dot(W1, x)\n",
        "        h1 = 1 / (1 + np.exp(-z1))\n",
        "        z2 = np.dot(W2, h1)\n",
        "        y_pred = 1 / (1 + np.exp(-z2))\n",
        "\n",
        "        dL_dw1, dL_dw2 = backward_pass(x, y_true, y_pred)\n",
        "\n",
        "        W1 -= taxa_de_aprendizagem * dL_dw1\n",
        "        W2 -= taxa_de_aprendizagem * dL_dw2"
      ],
      "metadata": {
        "id": "sxOsHGrj1vIC"
      },
      "execution_count": null,
      "outputs": []
    },
    {
      "cell_type": "markdown",
      "source": [
        "Aqui, X é a matriz de entrada e y é o vetor de saída para o conjunto de dados. Percorremos o conjunto de dados len(X) vezes, e para cada par de entrada-saída (x, y_true), calculamos o forward pass usando os pesos atuais, calculamos o backward pass para obter os gradientes dos pesos em relação à função de perda e atualizamos os pesos usando a taxa de aprendizado.\n",
        "\n",
        "Após o treinamento ser concluído, podemos usar a MLP para fazer previsões em novas entradas passando as entradas pelo algoritmo forward pass:"
      ],
      "metadata": {
        "id": "495RLF2E1yM7"
      }
    },
    {
      "cell_type": "code",
      "source": [
        "for i in range(len(X)):\n",
        "    x = X[i].reshape(-1, 1)\n",
        "    y_pred = forward_pass(x)\n",
        "    print(f\"Input: {x.flatten()}, True output: {y[i]}, Predicted output: {y_pred[0]}\")"
      ],
      "metadata": {
        "id": "zPOd61_610Fx"
      },
      "execution_count": null,
      "outputs": []
    },
    {
      "cell_type": "markdown",
      "source": [
        "Isso imprimirá a saída prevista para cada entrada no conjunto de dados, juntamente com a saída verdadeira.\n",
        "\n",
        "Este é um exemplo simples de como implementar uma MLP manualmente usando a função de ativação sigmoid e backpropagation. Você pode modificar este código para experimentar com diferentes funções de ativação, números de camadas ocultas e neurônios, e técnicas de regularização."
      ],
      "metadata": {
        "id": "DmL11CJ712wV"
      }
    }
  ]
}