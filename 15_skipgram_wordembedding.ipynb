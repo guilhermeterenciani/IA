{
  "nbformat": 4,
  "nbformat_minor": 0,
  "metadata": {
    "colab": {
      "provenance": [],
      "include_colab_link": true
    },
    "kernelspec": {
      "name": "python3",
      "display_name": "Python 3"
    },
    "language_info": {
      "name": "python"
    }
  },
  "cells": [
    {
      "cell_type": "markdown",
      "metadata": {
        "id": "view-in-github",
        "colab_type": "text"
      },
      "source": [
        "<a href=\"https://colab.research.google.com/github/guilhermeterenciani/IA/blob/main/15_skipgram_wordembedding.ipynb\" target=\"_parent\"><img src=\"https://colab.research.google.com/assets/colab-badge.svg\" alt=\"Open In Colab\"/></a>"
      ]
    },
    {
      "cell_type": "code",
      "execution_count": null,
      "metadata": {
        "colab": {
          "base_uri": "https://localhost:8080/"
        },
        "id": "8TnO66rBairh",
        "outputId": "66536d48-5ab3-407a-edc2-5c2f889c5fb0"
      },
      "outputs": [
        {
          "output_type": "stream",
          "name": "stdout",
          "text": [
            "--2023-11-06 12:37:32--  http://143.107.183.175:22980/download.php?file=embeddings/word2vec/skip_s50.zip\n",
            "Connecting to 143.107.183.175:22980... connected.\n",
            "HTTP request sent, awaiting response... 200 OK\n",
            "Length: 176485664 (168M) [application/octet-stream]\n",
            "Saving to: ‘download.php?file=embeddings%2Fword2vec%2Fskip_s50.zip’\n",
            "\n",
            "download.php?file=e 100%[===================>] 168.31M  11.2MB/s    in 16s     \n",
            "\n",
            "2023-11-06 12:37:48 (10.7 MB/s) - ‘download.php?file=embeddings%2Fword2vec%2Fskip_s50.zip’ saved [176485664/176485664]\n",
            "\n"
          ]
        }
      ],
      "source": [
        "!wget http://143.107.183.175:22980/download.php?file=embeddings/word2vec/skip_s50.zip"
      ]
    },
    {
      "cell_type": "code",
      "source": [
        "!unzip download.php?file=embeddings%2Fword2vec%2Fskip_s50.zip"
      ],
      "metadata": {
        "colab": {
          "base_uri": "https://localhost:8080/"
        },
        "id": "jeeirVxyapz1",
        "outputId": "0da87beb-cd75-4bdc-9c1e-b2ce1a5513d5"
      },
      "execution_count": null,
      "outputs": [
        {
          "output_type": "stream",
          "name": "stdout",
          "text": [
            "Archive:  download.php?file=embeddings%2Fword2vec%2Fskip_s50.zip\n",
            "  inflating: skip_s50.txt            \n"
          ]
        }
      ]
    },
    {
      "cell_type": "code",
      "source": [
        "!pip install gensim==4.3.1"
      ],
      "metadata": {
        "colab": {
          "base_uri": "https://localhost:8080/"
        },
        "id": "o6IflGWIa3_r",
        "outputId": "276e054e-0885-441a-9107-5d92ec22f32c"
      },
      "execution_count": null,
      "outputs": [
        {
          "output_type": "stream",
          "name": "stdout",
          "text": [
            "Collecting gensim==4.3.1\n",
            "  Downloading gensim-4.3.1-cp310-cp310-manylinux_2_17_x86_64.manylinux2014_x86_64.whl (26.4 MB)\n",
            "\u001b[2K     \u001b[90m━━━━━━━━━━━━━━━━━━━━━━━━━━━━━━━━━━━━━━━━\u001b[0m \u001b[32m26.4/26.4 MB\u001b[0m \u001b[31m52.1 MB/s\u001b[0m eta \u001b[36m0:00:00\u001b[0m\n",
            "\u001b[?25hRequirement already satisfied: numpy>=1.18.5 in /usr/local/lib/python3.10/dist-packages (from gensim==4.3.1) (1.23.5)\n",
            "Requirement already satisfied: scipy>=1.7.0 in /usr/local/lib/python3.10/dist-packages (from gensim==4.3.1) (1.11.3)\n",
            "Requirement already satisfied: smart-open>=1.8.1 in /usr/local/lib/python3.10/dist-packages (from gensim==4.3.1) (6.4.0)\n",
            "Installing collected packages: gensim\n",
            "  Attempting uninstall: gensim\n",
            "    Found existing installation: gensim 4.3.2\n",
            "    Uninstalling gensim-4.3.2:\n",
            "      Successfully uninstalled gensim-4.3.2\n",
            "Successfully installed gensim-4.3.1\n"
          ]
        }
      ]
    },
    {
      "cell_type": "code",
      "source": [
        "from gensim.models import KeyedVectors\n",
        "model = KeyedVectors.load_word2vec_format('skip_s50.txt')"
      ],
      "metadata": {
        "id": "yfI7-GcUa9vo"
      },
      "execution_count": null,
      "outputs": []
    },
    {
      "cell_type": "code",
      "source": [
        "model.most_similar('porem')"
      ],
      "metadata": {
        "colab": {
          "base_uri": "https://localhost:8080/"
        },
        "id": "WumjTmKgbMTq",
        "outputId": "2ddfe6cd-964f-4285-d5e3-8b3dc87dfd88"
      },
      "execution_count": null,
      "outputs": [
        {
          "output_type": "execute_result",
          "data": {
            "text/plain": [
              "[('mas', 0.7353667616844177),\n",
              " ('convertendo', 0.6780568361282349),\n",
              " ('restringindo', 0.660018801689148),\n",
              " ('quando', 0.6557275652885437),\n",
              " ('pois', 0.65447998046875),\n",
              " ('aparentemente', 0.6474550366401672),\n",
              " ('cessando', 0.6457473039627075),\n",
              " ('levando', 0.6412934064865112),\n",
              " ('transformando', 0.6394832134246826),\n",
              " ('pondo', 0.639054536819458)]"
            ]
          },
          "metadata": {},
          "execution_count": 5
        }
      ]
    },
    {
      "cell_type": "code",
      "source": [
        "model['professor']"
      ],
      "metadata": {
        "colab": {
          "base_uri": "https://localhost:8080/"
        },
        "id": "s-lELb4WbcmK",
        "outputId": "732f3496-d15a-4af7-b0c1-eeb3fbd0bd9d"
      },
      "execution_count": null,
      "outputs": [
        {
          "output_type": "execute_result",
          "data": {
            "text/plain": [
              "array([-0.420273,  0.163025, -0.277764,  0.105935, -0.405261,  0.353795,\n",
              "        0.042763, -0.070641,  0.365383,  0.226605, -0.280606, -0.549319,\n",
              "       -0.23815 , -0.093266,  0.065925, -0.357979, -0.05508 ,  0.24158 ,\n",
              "       -0.374448,  0.586532, -0.288855, -0.248665, -0.436374, -0.701574,\n",
              "        0.209342, -0.21724 ,  0.254081, -0.002908, -0.073713, -0.351923,\n",
              "        0.290286, -0.458017, -0.036811,  0.366519,  0.194306,  0.690489,\n",
              "        0.338168, -0.099789,  0.005646,  0.423207,  0.204457,  0.702725,\n",
              "        0.231938,  0.036836,  0.003764, -0.216706, -0.170535, -0.153388,\n",
              "        0.253575,  0.124619], dtype=float32)"
            ]
          },
          "metadata": {},
          "execution_count": 6
        }
      ]
    },
    {
      "cell_type": "code",
      "source": [],
      "metadata": {
        "id": "mFDbSGW3bgRS"
      },
      "execution_count": null,
      "outputs": []
    }
  ]
}