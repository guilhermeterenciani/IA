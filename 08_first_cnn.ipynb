{
  "nbformat": 4,
  "nbformat_minor": 0,
  "metadata": {
    "colab": {
      "provenance": [],
      "include_colab_link": true
    },
    "kernelspec": {
      "name": "python3",
      "display_name": "Python 3"
    },
    "language_info": {
      "name": "python"
    }
  },
  "cells": [
    {
      "cell_type": "markdown",
      "metadata": {
        "id": "view-in-github",
        "colab_type": "text"
      },
      "source": [
        "<a href=\"https://colab.research.google.com/github/guilhermeterenciani/IA/blob/main/08_first_cnn.ipynb\" target=\"_parent\"><img src=\"https://colab.research.google.com/assets/colab-badge.svg\" alt=\"Open In Colab\"/></a>"
      ]
    },
    {
      "cell_type": "code",
      "execution_count": 1,
      "metadata": {
        "id": "b8TiH_JG1DZs"
      },
      "outputs": [],
      "source": [
        "import torch\n",
        "import torch.nn as nn\n",
        "import torchsummary"
      ]
    },
    {
      "cell_type": "code",
      "source": [
        "conv1 = nn.Sequential(nn.Conv2d(in_channels = 1, out_channels = 6, kernel_size=5))"
      ],
      "metadata": {
        "id": "ETtexvM81dTs"
      },
      "execution_count": 6,
      "outputs": []
    },
    {
      "cell_type": "code",
      "source": [
        "\n",
        "              # batch, canais, comprimento, altura\n",
        "x = torch.randn((1,1,32,32))"
      ],
      "metadata": {
        "id": "B3WRJtVF1uQE"
      },
      "execution_count": 9,
      "outputs": []
    },
    {
      "cell_type": "code",
      "source": [
        "pred = conv1(x)"
      ],
      "metadata": {
        "id": "IrBBc7tc14Rl"
      },
      "execution_count": 10,
      "outputs": []
    },
    {
      "cell_type": "code",
      "source": [
        "pred.shape"
      ],
      "metadata": {
        "colab": {
          "base_uri": "https://localhost:8080/"
        },
        "id": "ENxxBK_d17eW",
        "outputId": "9c7ccd04-5784-4ed6-af17-1522af3df432"
      },
      "execution_count": 11,
      "outputs": [
        {
          "output_type": "execute_result",
          "data": {
            "text/plain": [
              "torch.Size([1, 6, 28, 28])"
            ]
          },
          "metadata": {},
          "execution_count": 11
        }
      ]
    },
    {
      "cell_type": "code",
      "source": [],
      "metadata": {
        "id": "g-PPw4qE19QN"
      },
      "execution_count": null,
      "outputs": []
    },
    {
      "cell_type": "code",
      "source": [
        "torchsummary.summary(conv1,(1,32,32))\n"
      ],
      "metadata": {
        "colab": {
          "base_uri": "https://localhost:8080/"
        },
        "id": "gu1scNFU2RjB",
        "outputId": "42d34d58-6800-4bc8-c1f2-9b534d0b0e37"
      },
      "execution_count": 13,
      "outputs": [
        {
          "output_type": "stream",
          "name": "stdout",
          "text": [
            "----------------------------------------------------------------\n",
            "        Layer (type)               Output Shape         Param #\n",
            "================================================================\n",
            "            Conv2d-1            [-1, 6, 28, 28]             156\n",
            "================================================================\n",
            "Total params: 156\n",
            "Trainable params: 156\n",
            "Non-trainable params: 0\n",
            "----------------------------------------------------------------\n",
            "Input size (MB): 0.00\n",
            "Forward/backward pass size (MB): 0.04\n",
            "Params size (MB): 0.00\n",
            "Estimated Total Size (MB): 0.04\n",
            "----------------------------------------------------------------\n"
          ]
        }
      ]
    },
    {
      "cell_type": "code",
      "source": [
        "conv2 = nn.Sequential(nn.Conv2d(in_channels = 6, out_channels = 16, kernel_size=5))"
      ],
      "metadata": {
        "id": "6r-p37Si2dWj"
      },
      "execution_count": 14,
      "outputs": []
    },
    {
      "cell_type": "code",
      "source": [
        "torchsummary.summary(conv2,(6,14,14))"
      ],
      "metadata": {
        "colab": {
          "base_uri": "https://localhost:8080/"
        },
        "id": "pDk26yChAh_G",
        "outputId": "e9f8a241-d4d6-46aa-e9e9-e1f9ae017264"
      },
      "execution_count": 15,
      "outputs": [
        {
          "output_type": "stream",
          "name": "stdout",
          "text": [
            "----------------------------------------------------------------\n",
            "        Layer (type)               Output Shape         Param #\n",
            "================================================================\n",
            "            Conv2d-1           [-1, 16, 10, 10]           2,416\n",
            "================================================================\n",
            "Total params: 2,416\n",
            "Trainable params: 2,416\n",
            "Non-trainable params: 0\n",
            "----------------------------------------------------------------\n",
            "Input size (MB): 0.00\n",
            "Forward/backward pass size (MB): 0.01\n",
            "Params size (MB): 0.01\n",
            "Estimated Total Size (MB): 0.03\n",
            "----------------------------------------------------------------\n"
          ]
        }
      ]
    },
    {
      "cell_type": "code",
      "source": [
        "5*5*6*16 + 16"
      ],
      "metadata": {
        "colab": {
          "base_uri": "https://localhost:8080/"
        },
        "id": "nKSJBSa0BPCS",
        "outputId": "55a6e53b-c101-4074-8a2b-d4bd493fb7cf"
      },
      "execution_count": 16,
      "outputs": [
        {
          "output_type": "execute_result",
          "data": {
            "text/plain": [
              "2416"
            ]
          },
          "metadata": {},
          "execution_count": 16
        }
      ]
    },
    {
      "cell_type": "code",
      "source": [
        "conv1 = nn.Sequential(nn.Conv2d(in_channels = 1, out_channels = 6, kernel_size=5))\n",
        "pool = nn.MaxPool2d(kernel_size=2,stride=2)\n",
        "conv2 = nn.Sequential(nn.Conv2d(in_channels = 6, out_channels = 16, kernel_size=5))\n"
      ],
      "metadata": {
        "id": "yr97zUxuBY6J"
      },
      "execution_count": 21,
      "outputs": []
    },
    {
      "cell_type": "code",
      "source": [
        "# batch, canais, comprimento, altura\n",
        "x = torch.randn((1,1,32,32))"
      ],
      "metadata": {
        "id": "EsD6rJOgBtIb"
      },
      "execution_count": null,
      "outputs": []
    },
    {
      "cell_type": "code",
      "source": [
        "s1 = conv1(x)"
      ],
      "metadata": {
        "id": "PnjMd_phBw4J"
      },
      "execution_count": 22,
      "outputs": []
    },
    {
      "cell_type": "code",
      "source": [
        "s1.shape"
      ],
      "metadata": {
        "colab": {
          "base_uri": "https://localhost:8080/"
        },
        "id": "zxmGjBouBzr7",
        "outputId": "36846c57-a651-4c9f-e2bd-fcca28af13fb"
      },
      "execution_count": 23,
      "outputs": [
        {
          "output_type": "execute_result",
          "data": {
            "text/plain": [
              "torch.Size([1, 6, 28, 28])"
            ]
          },
          "metadata": {},
          "execution_count": 23
        }
      ]
    },
    {
      "cell_type": "code",
      "source": [
        "s2 = pool(s1)"
      ],
      "metadata": {
        "id": "xudz98JUB0jd"
      },
      "execution_count": 24,
      "outputs": []
    },
    {
      "cell_type": "code",
      "source": [
        "s2.shape"
      ],
      "metadata": {
        "colab": {
          "base_uri": "https://localhost:8080/"
        },
        "id": "ti_B7FRIB27D",
        "outputId": "5e9e300e-90cd-4925-a4db-c3f84f9d4070"
      },
      "execution_count": 25,
      "outputs": [
        {
          "output_type": "execute_result",
          "data": {
            "text/plain": [
              "torch.Size([1, 6, 14, 14])"
            ]
          },
          "metadata": {},
          "execution_count": 25
        }
      ]
    },
    {
      "cell_type": "code",
      "source": [
        "s3 = conv2(s2)"
      ],
      "metadata": {
        "id": "1U7rZxkyCAaG"
      },
      "execution_count": 26,
      "outputs": []
    },
    {
      "cell_type": "code",
      "source": [
        "s3.shape"
      ],
      "metadata": {
        "colab": {
          "base_uri": "https://localhost:8080/"
        },
        "id": "gTIfW8s2CDae",
        "outputId": "c82be23e-f956-4211-b72c-ebd0e49e4c02"
      },
      "execution_count": 28,
      "outputs": [
        {
          "output_type": "execute_result",
          "data": {
            "text/plain": [
              "torch.Size([1, 16, 10, 10])"
            ]
          },
          "metadata": {},
          "execution_count": 28
        }
      ]
    },
    {
      "cell_type": "code",
      "source": [
        "s4 = pool(s3)"
      ],
      "metadata": {
        "id": "Rg3yHeNqCEon"
      },
      "execution_count": 29,
      "outputs": []
    },
    {
      "cell_type": "code",
      "source": [
        "s4.shape"
      ],
      "metadata": {
        "colab": {
          "base_uri": "https://localhost:8080/"
        },
        "id": "B6Tz7tGrCJ2T",
        "outputId": "525bac67-20f9-4a32-dc02-c7c1a6fc2bf5"
      },
      "execution_count": 30,
      "outputs": [
        {
          "output_type": "execute_result",
          "data": {
            "text/plain": [
              "torch.Size([1, 16, 5, 5])"
            ]
          },
          "metadata": {},
          "execution_count": 30
        }
      ]
    },
    {
      "cell_type": "code",
      "source": [
        "linear1 = nn.Linear(in_features=16*5*5,out_features=120)\n",
        "linear2 = nn.Linear(in_features=120,out_features=84)\n",
        "linear3 = nn.Linear(in_features=84,out_features=10)\n",
        "flatten = nn.Flatten()"
      ],
      "metadata": {
        "id": "vaJ7SH2ICKx6"
      },
      "execution_count": 49,
      "outputs": []
    },
    {
      "cell_type": "code",
      "source": [
        "s5 = s4.flatten()"
      ],
      "metadata": {
        "id": "mj6VTaUGCuHh"
      },
      "execution_count": 34,
      "outputs": []
    },
    {
      "cell_type": "code",
      "source": [
        "s6 = linear1(s5)"
      ],
      "metadata": {
        "id": "8LRp7ZwACpLD"
      },
      "execution_count": 35,
      "outputs": []
    },
    {
      "cell_type": "code",
      "source": [
        "s6.shape"
      ],
      "metadata": {
        "colab": {
          "base_uri": "https://localhost:8080/"
        },
        "id": "t8iFjzW1C5PY",
        "outputId": "f8788b08-986d-44c8-b773-df0015ff5312"
      },
      "execution_count": 36,
      "outputs": [
        {
          "output_type": "execute_result",
          "data": {
            "text/plain": [
              "torch.Size([120])"
            ]
          },
          "metadata": {},
          "execution_count": 36
        }
      ]
    },
    {
      "cell_type": "code",
      "source": [
        "s7 = linear2(s6)"
      ],
      "metadata": {
        "id": "_ozHatP6C6Lg"
      },
      "execution_count": 37,
      "outputs": []
    },
    {
      "cell_type": "code",
      "source": [
        "s7.shape"
      ],
      "metadata": {
        "colab": {
          "base_uri": "https://localhost:8080/"
        },
        "id": "JhlSfx4UC9oc",
        "outputId": "5595fb9e-6176-42fc-ed6b-f18762c30f03"
      },
      "execution_count": 38,
      "outputs": [
        {
          "output_type": "execute_result",
          "data": {
            "text/plain": [
              "torch.Size([84])"
            ]
          },
          "metadata": {},
          "execution_count": 38
        }
      ]
    },
    {
      "cell_type": "code",
      "source": [
        "s8 = linear3(s7)"
      ],
      "metadata": {
        "id": "IMKSsvBTC_EV"
      },
      "execution_count": 39,
      "outputs": []
    },
    {
      "cell_type": "code",
      "source": [
        "s8.shape"
      ],
      "metadata": {
        "colab": {
          "base_uri": "https://localhost:8080/"
        },
        "id": "3-E34tzUDDLW",
        "outputId": "2d339592-7458-49d6-cb30-449d990f7270"
      },
      "execution_count": 40,
      "outputs": [
        {
          "output_type": "execute_result",
          "data": {
            "text/plain": [
              "torch.Size([10])"
            ]
          },
          "metadata": {},
          "execution_count": 40
        }
      ]
    },
    {
      "cell_type": "code",
      "source": [
        "s8"
      ],
      "metadata": {
        "colab": {
          "base_uri": "https://localhost:8080/"
        },
        "id": "ziQl3R7CDE1E",
        "outputId": "9ba9344e-e6bd-40cd-a2ed-0da4c4557372"
      },
      "execution_count": 41,
      "outputs": [
        {
          "output_type": "execute_result",
          "data": {
            "text/plain": [
              "tensor([-0.0159, -0.1606, -0.1038, -0.0951,  0.1066, -0.1176,  0.1290, -0.0581,\n",
              "         0.0087,  0.0824], grad_fn=<AddBackward0>)"
            ]
          },
          "metadata": {},
          "execution_count": 41
        }
      ]
    },
    {
      "cell_type": "code",
      "source": [
        "relu = nn.ReLU()"
      ],
      "metadata": {
        "id": "KukCFDZ1DImq"
      },
      "execution_count": 42,
      "outputs": []
    },
    {
      "cell_type": "code",
      "source": [
        "              # batch, canais, comprimento, altura\n",
        "x = torch.randn((1,1,32,32))"
      ],
      "metadata": {
        "id": "SxPYcGwQD94X"
      },
      "execution_count": 50,
      "outputs": []
    },
    {
      "cell_type": "code",
      "source": [
        "x = relu(conv1(x))\n",
        "x = pool(x)\n",
        "x = relu(conv2(x))\n",
        "x = pool(x)\n",
        "x = flatten(x)\n",
        "x = relu(linear1(x))\n",
        "x = relu(linear2(x))\n",
        "x = relu(linear3(x))"
      ],
      "metadata": {
        "id": "HGKVUZ8dDbgE"
      },
      "execution_count": 51,
      "outputs": []
    },
    {
      "cell_type": "code",
      "source": [
        "x"
      ],
      "metadata": {
        "colab": {
          "base_uri": "https://localhost:8080/"
        },
        "id": "XMho7EeBEAYg",
        "outputId": "1c4a1a3a-f147-4005-8a40-95e7285cc3e7"
      },
      "execution_count": 52,
      "outputs": [
        {
          "output_type": "execute_result",
          "data": {
            "text/plain": [
              "tensor([[0.0000, 0.0000, 0.1711, 0.0529, 0.0000, 0.0000, 0.0489, 0.0462, 0.0000,\n",
              "         0.0000]], grad_fn=<ReluBackward0>)"
            ]
          },
          "metadata": {},
          "execution_count": 52
        }
      ]
    },
    {
      "cell_type": "code",
      "source": [
        "model = nn.Sequential(\n",
        "    nn.Conv2d(in_channels = 1, out_channels = 6, kernel_size=5),\n",
        "    nn.ReLU(),\n",
        "    nn.MaxPool2d(kernel_size=2,stride=2),\n",
        "    nn.Conv2d(in_channels = 6, out_channels = 16, kernel_size=5),\n",
        "    nn.ReLU(),\n",
        "    nn.MaxPool2d(kernel_size=2,stride=2),\n",
        "    nn.Flatten(),\n",
        "    nn.Linear(400, 120),\n",
        "    nn.ReLU(),\n",
        "    nn.Linear(120,84),\n",
        "    nn.ReLU(),\n",
        "    nn.Linear(84,10),\n",
        "\n",
        ")\n"
      ],
      "metadata": {
        "id": "ljiT_mYzEj-G"
      },
      "execution_count": 53,
      "outputs": []
    },
    {
      "cell_type": "code",
      "source": [
        "x = torch.randn((1,1,32,32))\n",
        "pred = model(x)"
      ],
      "metadata": {
        "id": "nGnpqd9iE7bu"
      },
      "execution_count": 55,
      "outputs": []
    },
    {
      "cell_type": "code",
      "source": [
        "pred"
      ],
      "metadata": {
        "colab": {
          "base_uri": "https://localhost:8080/"
        },
        "id": "CioEVfH_E72f",
        "outputId": "a5f5c6d1-a477-4ec2-8417-b61928d47604"
      },
      "execution_count": 58,
      "outputs": [
        {
          "output_type": "execute_result",
          "data": {
            "text/plain": [
              "tensor([[ 0.1090,  0.0762, -0.0943, -0.1371, -0.0409, -0.0151, -0.0168,  0.0386,\n",
              "         -0.0558,  0.0496]], grad_fn=<AddmmBackward0>)"
            ]
          },
          "metadata": {},
          "execution_count": 58
        }
      ]
    },
    {
      "cell_type": "code",
      "source": [
        "torchsummary.summary(model,(1,32,32))"
      ],
      "metadata": {
        "colab": {
          "base_uri": "https://localhost:8080/"
        },
        "id": "3LdM2EgsFCXX",
        "outputId": "42542b50-c873-41e8-bf08-bd81a834557a"
      },
      "execution_count": 59,
      "outputs": [
        {
          "output_type": "stream",
          "name": "stdout",
          "text": [
            "----------------------------------------------------------------\n",
            "        Layer (type)               Output Shape         Param #\n",
            "================================================================\n",
            "            Conv2d-1            [-1, 6, 28, 28]             156\n",
            "              ReLU-2            [-1, 6, 28, 28]               0\n",
            "         MaxPool2d-3            [-1, 6, 14, 14]               0\n",
            "            Conv2d-4           [-1, 16, 10, 10]           2,416\n",
            "              ReLU-5           [-1, 16, 10, 10]               0\n",
            "         MaxPool2d-6             [-1, 16, 5, 5]               0\n",
            "           Flatten-7                  [-1, 400]               0\n",
            "            Linear-8                  [-1, 120]          48,120\n",
            "              ReLU-9                  [-1, 120]               0\n",
            "           Linear-10                   [-1, 84]          10,164\n",
            "             ReLU-11                   [-1, 84]               0\n",
            "           Linear-12                   [-1, 10]             850\n",
            "================================================================\n",
            "Total params: 61,706\n",
            "Trainable params: 61,706\n",
            "Non-trainable params: 0\n",
            "----------------------------------------------------------------\n",
            "Input size (MB): 0.00\n",
            "Forward/backward pass size (MB): 0.11\n",
            "Params size (MB): 0.24\n",
            "Estimated Total Size (MB): 0.35\n",
            "----------------------------------------------------------------\n"
          ]
        }
      ]
    }
  ]
}