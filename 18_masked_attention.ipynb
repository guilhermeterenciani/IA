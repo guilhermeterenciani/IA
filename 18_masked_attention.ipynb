{
  "nbformat": 4,
  "nbformat_minor": 0,
  "metadata": {
    "colab": {
      "provenance": [],
      "include_colab_link": true
    },
    "kernelspec": {
      "name": "python3",
      "display_name": "Python 3"
    },
    "language_info": {
      "name": "python"
    }
  },
  "cells": [
    {
      "cell_type": "markdown",
      "metadata": {
        "id": "view-in-github",
        "colab_type": "text"
      },
      "source": [
        "<a href=\"https://colab.research.google.com/github/guilhermeterenciani/IA/blob/main/18_masked_attention.ipynb\" target=\"_parent\"><img src=\"https://colab.research.google.com/assets/colab-badge.svg\" alt=\"Open In Colab\"/></a>"
      ]
    },
    {
      "cell_type": "code",
      "source": [
        "import torch"
      ],
      "metadata": {
        "id": "ygZfnXPSuGSD"
      },
      "execution_count": null,
      "outputs": []
    },
    {
      "cell_type": "code",
      "source": [
        "T = 10"
      ],
      "metadata": {
        "id": "cMtGKCwCuOEh"
      },
      "execution_count": null,
      "outputs": []
    },
    {
      "cell_type": "code",
      "source": [
        "tril = torch.tril(torch.ones(T, T))"
      ],
      "metadata": {
        "id": "The8vAtJqprN"
      },
      "execution_count": null,
      "outputs": []
    },
    {
      "cell_type": "code",
      "source": [
        "tril"
      ],
      "metadata": {
        "id": "sfVJXSbLtw7J",
        "colab": {
          "base_uri": "https://localhost:8080/"
        },
        "outputId": "302099b5-6f9c-43ab-f0d2-97809429b930"
      },
      "execution_count": null,
      "outputs": [
        {
          "output_type": "execute_result",
          "data": {
            "text/plain": [
              "tensor([[1., 0., 0., 0., 0., 0., 0., 0., 0., 0.],\n",
              "        [1., 1., 0., 0., 0., 0., 0., 0., 0., 0.],\n",
              "        [1., 1., 1., 0., 0., 0., 0., 0., 0., 0.],\n",
              "        [1., 1., 1., 1., 0., 0., 0., 0., 0., 0.],\n",
              "        [1., 1., 1., 1., 1., 0., 0., 0., 0., 0.],\n",
              "        [1., 1., 1., 1., 1., 1., 0., 0., 0., 0.],\n",
              "        [1., 1., 1., 1., 1., 1., 1., 0., 0., 0.],\n",
              "        [1., 1., 1., 1., 1., 1., 1., 1., 0., 0.],\n",
              "        [1., 1., 1., 1., 1., 1., 1., 1., 1., 0.],\n",
              "        [1., 1., 1., 1., 1., 1., 1., 1., 1., 1.]])"
            ]
          },
          "metadata": {},
          "execution_count": 6
        }
      ]
    },
    {
      "cell_type": "code",
      "source": [
        "wei = torch.arange(100).float().view((10,10))"
      ],
      "metadata": {
        "id": "vq6lXr7vuQWD"
      },
      "execution_count": null,
      "outputs": []
    },
    {
      "cell_type": "code",
      "source": [
        "wei"
      ],
      "metadata": {
        "colab": {
          "base_uri": "https://localhost:8080/"
        },
        "id": "V1-Q0f0GuSdj",
        "outputId": "8058b1cb-ff85-4997-a264-a771cdf4927c"
      },
      "execution_count": null,
      "outputs": [
        {
          "output_type": "execute_result",
          "data": {
            "text/plain": [
              "tensor([[ 0.,  1.,  2.,  3.,  4.,  5.,  6.,  7.,  8.,  9.],\n",
              "        [10., 11., 12., 13., 14., 15., 16., 17., 18., 19.],\n",
              "        [20., 21., 22., 23., 24., 25., 26., 27., 28., 29.],\n",
              "        [30., 31., 32., 33., 34., 35., 36., 37., 38., 39.],\n",
              "        [40., 41., 42., 43., 44., 45., 46., 47., 48., 49.],\n",
              "        [50., 51., 52., 53., 54., 55., 56., 57., 58., 59.],\n",
              "        [60., 61., 62., 63., 64., 65., 66., 67., 68., 69.],\n",
              "        [70., 71., 72., 73., 74., 75., 76., 77., 78., 79.],\n",
              "        [80., 81., 82., 83., 84., 85., 86., 87., 88., 89.],\n",
              "        [90., 91., 92., 93., 94., 95., 96., 97., 98., 99.]])"
            ]
          },
          "metadata": {},
          "execution_count": 8
        }
      ]
    },
    {
      "cell_type": "code",
      "source": [
        "wei = wei.masked_fill(tril == 0, float('-inf'))"
      ],
      "metadata": {
        "id": "qnbAC1uhuTzb"
      },
      "execution_count": null,
      "outputs": []
    },
    {
      "cell_type": "code",
      "source": [
        "wei"
      ],
      "metadata": {
        "colab": {
          "base_uri": "https://localhost:8080/"
        },
        "id": "_N5dcTQpuV6j",
        "outputId": "3354e645-523e-40c6-ed25-3082b61b4d01"
      },
      "execution_count": null,
      "outputs": [
        {
          "output_type": "execute_result",
          "data": {
            "text/plain": [
              "tensor([[ 0., -inf, -inf, -inf, -inf, -inf, -inf, -inf, -inf, -inf],\n",
              "        [10., 11., -inf, -inf, -inf, -inf, -inf, -inf, -inf, -inf],\n",
              "        [20., 21., 22., -inf, -inf, -inf, -inf, -inf, -inf, -inf],\n",
              "        [30., 31., 32., 33., -inf, -inf, -inf, -inf, -inf, -inf],\n",
              "        [40., 41., 42., 43., 44., -inf, -inf, -inf, -inf, -inf],\n",
              "        [50., 51., 52., 53., 54., 55., -inf, -inf, -inf, -inf],\n",
              "        [60., 61., 62., 63., 64., 65., 66., -inf, -inf, -inf],\n",
              "        [70., 71., 72., 73., 74., 75., 76., 77., -inf, -inf],\n",
              "        [80., 81., 82., 83., 84., 85., 86., 87., 88., -inf],\n",
              "        [90., 91., 92., 93., 94., 95., 96., 97., 98., 99.]])"
            ]
          },
          "metadata": {},
          "execution_count": 10
        }
      ]
    },
    {
      "cell_type": "code",
      "source": [
        "wei = torch.nn.functional.softmax(wei, dim=-1)"
      ],
      "metadata": {
        "id": "vjoBRKv7uW2R"
      },
      "execution_count": null,
      "outputs": []
    },
    {
      "cell_type": "code",
      "source": [],
      "metadata": {
        "colab": {
          "base_uri": "https://localhost:8080/"
        },
        "id": "K1WmqNbxujBe",
        "outputId": "5c60949c-7be5-45a4-84df-5b5eb630050f"
      },
      "execution_count": null,
      "outputs": [
        {
          "output_type": "execute_result",
          "data": {
            "text/plain": [
              "tensor([[1.0000e+00, 0.0000e+00, 0.0000e+00, 0.0000e+00, 0.0000e+00, 0.0000e+00,\n",
              "         0.0000e+00, 0.0000e+00, 0.0000e+00, 0.0000e+00],\n",
              "        [2.6894e-01, 7.3106e-01, 0.0000e+00, 0.0000e+00, 0.0000e+00, 0.0000e+00,\n",
              "         0.0000e+00, 0.0000e+00, 0.0000e+00, 0.0000e+00],\n",
              "        [9.0031e-02, 2.4473e-01, 6.6524e-01, 0.0000e+00, 0.0000e+00, 0.0000e+00,\n",
              "         0.0000e+00, 0.0000e+00, 0.0000e+00, 0.0000e+00],\n",
              "        [3.2059e-02, 8.7144e-02, 2.3688e-01, 6.4391e-01, 0.0000e+00, 0.0000e+00,\n",
              "         0.0000e+00, 0.0000e+00, 0.0000e+00, 0.0000e+00],\n",
              "        [1.1656e-02, 3.1685e-02, 8.6129e-02, 2.3412e-01, 6.3641e-01, 0.0000e+00,\n",
              "         0.0000e+00, 0.0000e+00, 0.0000e+00, 0.0000e+00],\n",
              "        [4.2698e-03, 1.1606e-02, 3.1550e-02, 8.5761e-02, 2.3312e-01, 6.3369e-01,\n",
              "         0.0000e+00, 0.0000e+00, 0.0000e+00, 0.0000e+00],\n",
              "        [1.5683e-03, 4.2631e-03, 1.1588e-02, 3.1500e-02, 8.5626e-02, 2.3276e-01,\n",
              "         6.3270e-01, 0.0000e+00, 0.0000e+00, 0.0000e+00],\n",
              "        [5.7661e-04, 1.5674e-03, 4.2606e-03, 1.1582e-02, 3.1482e-02, 8.5577e-02,\n",
              "         2.3262e-01, 6.3233e-01, 0.0000e+00, 0.0000e+00],\n",
              "        [2.1208e-04, 5.7649e-04, 1.5671e-03, 4.2597e-03, 1.1579e-02, 3.1475e-02,\n",
              "         8.5559e-02, 2.3257e-01, 6.3220e-01, 0.0000e+00],\n",
              "        [7.8013e-05, 2.1206e-04, 5.7645e-04, 1.5669e-03, 4.2594e-03, 1.1578e-02,\n",
              "         3.1473e-02, 8.5552e-02, 2.3255e-01, 6.3215e-01]])"
            ]
          },
          "metadata": {},
          "execution_count": 13
        }
      ]
    },
    {
      "cell_type": "code",
      "source": [],
      "metadata": {
        "id": "U8MMO69Vujt1"
      },
      "execution_count": null,
      "outputs": []
    }
  ]
}